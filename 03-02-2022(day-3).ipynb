{
 "cells": [
  {
   "cell_type": "markdown",
   "id": "107802a6",
   "metadata": {},
   "source": [
    "### while\n",
    "- it exicutes block or set of instructions unit(1) the condition is false\n",
    "- while we dont the range\n",
    "- execute faster than the for loop\n",
    "- user incrementation"
   ]
  },
  {
   "cell_type": "code",
   "execution_count": null,
   "id": "8b169c4e",
   "metadata": {},
   "outputs": [],
   "source": [
    "#while syntax\n",
    "initialization\n",
    "while condition:\n",
    "    statements\n",
    "    incr/decrement"
   ]
  },
  {
   "cell_type": "code",
   "execution_count": 1,
   "id": "59ee9313",
   "metadata": {},
   "outputs": [
    {
     "name": "stdout",
     "output_type": "stream",
     "text": [
      "vasavi collage\n",
      "vasavi collage\n",
      "vasavi collage\n",
      "vasavi collage\n",
      "vasavi collage\n"
     ]
    }
   ],
   "source": [
    "n=1\n",
    "while n<=5:\n",
    "    print(\"vasavi collage\")\n",
    "    n=n+1"
   ]
  },
  {
   "cell_type": "code",
   "execution_count": 2,
   "id": "bca3711f",
   "metadata": {},
   "outputs": [
    {
     "name": "stdout",
     "output_type": "stream",
     "text": [
      "10 9 8 7 6 5 4 3 2 1 "
     ]
    }
   ],
   "source": [
    "# 10 to 1 numbers \n",
    "n=10\n",
    "while n>=1:\n",
    "    print(n,end=\" \")\n",
    "    n=n-1"
   ]
  },
  {
   "cell_type": "code",
   "execution_count": 3,
   "id": "66dad9ea",
   "metadata": {},
   "outputs": [
    {
     "name": "stdout",
     "output_type": "stream",
     "text": [
      "12345\n",
      "\n",
      " digit count: 5\n"
     ]
    }
   ],
   "source": [
    "# i/p 1234\n",
    "# o/p digit count:4\n",
    "s=int(input())\n",
    "c=0\n",
    "while(s!=0): #1234!=0 123!=0 12!=0 1!=0\n",
    "    c=c+1    #1234!=4 123%10=3 12%=0 1!=0\n",
    "    s=s//10\n",
    "print(\"\\n digit count:\",c)    \n",
    "        \n",
    "    \n",
    "    \n",
    "    \n",
    "    \n",
    "    "
   ]
  },
  {
   "cell_type": "code",
   "execution_count": 4,
   "id": "b62a35e1",
   "metadata": {},
   "outputs": [
    {
     "name": "stdout",
     "output_type": "stream",
     "text": [
      "121\n",
      "palindrome\n"
     ]
    }
   ],
   "source": [
    "# check the given is palindrom \n",
    "# 121--121\n",
    "# mom-mom\n",
    "n=int(input())\n",
    "temp=n\n",
    "rev=0\n",
    "while(n!=0):\n",
    "    rem=n%10\n",
    "    rev=rev*10+rem\n",
    "    n=n//10\n",
    "if(temp==rev):\n",
    "    print(\"palindrome\")\n",
    "else:\n",
    "    print(\"not a palindrome\")"
   ]
  },
  {
   "cell_type": "code",
   "execution_count": null,
   "id": "a4d184b3",
   "metadata": {},
   "outputs": [],
   "source": [
    "# synatx:: nested forloop\n",
    "for iter in range(start,end,step):\n",
    "    for iter in range(start,end,step):\n",
    "        statement1\n",
    "        statement2"
   ]
  },
  {
   "cell_type": "code",
   "execution_count": null,
   "id": "7239f85c",
   "metadata": {},
   "outputs": [],
   "source": [
    "# matrix formate\n",
    "- ropws,columns\n",
    "- 2dimenentions\n",
    "  1 2 3\n",
    "  1 2 3  \n",
    "\n",
    "   "
   ]
  },
  {
   "cell_type": "code",
   "execution_count": 7,
   "id": "dfee87ef",
   "metadata": {},
   "outputs": [
    {
     "name": "stdout",
     "output_type": "stream",
     "text": [
      "1 1 1 1 \n",
      "2 2 2 2 \n",
      "3 3 3 3 \n",
      "4 4 4 4 \n"
     ]
    }
   ],
   "source": [
    "for row in range(1,5):\n",
    "    for column in range(1,5):\n",
    "        print(row,end=\" \")\n",
    "    print()# new line "
   ]
  },
  {
   "cell_type": "code",
   "execution_count": 8,
   "id": "ffd046ea",
   "metadata": {},
   "outputs": [
    {
     "name": "stdout",
     "output_type": "stream",
     "text": [
      "* * * * * * * * \n",
      "* * * * * * * * \n",
      "* * * * * * * * \n",
      "* * * * * * * * \n",
      "* * * * * * * * \n"
     ]
    }
   ],
   "source": [
    "for row in range(1,6):\n",
    "    for column in range(1,9):\n",
    "        print(\"*\",end=\" \")\n",
    "    print()# new line "
   ]
  },
  {
   "cell_type": "code",
   "execution_count": 9,
   "id": "691e3c5e",
   "metadata": {},
   "outputs": [
    {
     "name": "stdout",
     "output_type": "stream",
     "text": [
      "* \n",
      "* * \n",
      "* * * \n",
      "* * * * \n",
      "* * * * * \n"
     ]
    }
   ],
   "source": [
    "for row in range(1,6):\n",
    "    for column in range(1,row+1):\n",
    "        print(\"*\",end=\" \")\n",
    "    print()    "
   ]
  },
  {
   "cell_type": "code",
   "execution_count": 12,
   "id": "36d30143",
   "metadata": {},
   "outputs": [
    {
     "name": "stdout",
     "output_type": "stream",
     "text": [
      "* * * * * * \n",
      "* * * * * \n",
      "* * * * \n",
      "* * * \n",
      "* * \n",
      "* \n"
     ]
    }
   ],
   "source": [
    "for row in range(6,0,-1):\n",
    "    for column in range(1,row+1):\n",
    "        print(\"*\",end=\" \")\n",
    "    print()  "
   ]
  },
  {
   "cell_type": "code",
   "execution_count": 17,
   "id": "4ba2da74",
   "metadata": {},
   "outputs": [
    {
     "name": "stdout",
     "output_type": "stream",
     "text": [
      "* \n",
      "* * \n",
      "* * * \n",
      "* * * * \n",
      "* * * * * \n",
      "* * * * * * \n",
      "* * * * * \n",
      "* * * * \n",
      "* * * \n",
      "* * \n",
      "* \n"
     ]
    }
   ],
   "source": [
    "for row in range(1,6):\n",
    "    for column in range(1,row+1):\n",
    "        print(\"*\",end=\" \")\n",
    "    print()\n",
    "for row in range(6,0,-1):\n",
    "    for column in range(1,row+1):\n",
    "        print(\"*\",end=\" \")\n",
    "    print()     "
   ]
  },
  {
   "cell_type": "code",
   "execution_count": 21,
   "id": "169f6568",
   "metadata": {},
   "outputs": [
    {
     "name": "stdout",
     "output_type": "stream",
     "text": [
      "1\n",
      "10\n",
      "2 3 5 7 "
     ]
    }
   ],
   "source": [
    "# 1-10\n",
    "# prime numbers:2,3,5,7\n",
    "st=int(input())\n",
    "en=int(input())\n",
    "for num in range(st,en+1): #num=1 num=2 num=3 num=4\n",
    "    c=0\n",
    "    for var in range(1,num+1):#(1,1)(1,2)(1,3)(1,4)\n",
    "        if num%var==0:\n",
    "            c+=1\n",
    "    if(c==2):\n",
    "            print(num,end=\" \")\n",
    "        \n",
    "    \n",
    "        \n",
    "        \n",
    "    "
   ]
  },
  {
   "cell_type": "code",
   "execution_count": 25,
   "id": "5486ef47",
   "metadata": {},
   "outputs": [
    {
     "name": "stdout",
     "output_type": "stream",
     "text": [
      "1\n",
      "10\n",
      "1 * 1 = 1\n",
      "1 * 2 = 2\n",
      "1 * 3 = 3\n",
      "1 * 4 = 4\n",
      "1 * 5 = 5\n",
      "1 * 6 = 6\n",
      "1 * 7 = 7\n",
      "1 * 8 = 8\n",
      "1 * 9 = 9\n",
      "1 * 10 = 10\n",
      "2 * 1 = 2\n",
      "2 * 2 = 4\n",
      "2 * 3 = 6\n",
      "2 * 4 = 8\n",
      "2 * 5 = 10\n",
      "2 * 6 = 12\n",
      "2 * 7 = 14\n",
      "2 * 8 = 16\n",
      "2 * 9 = 18\n",
      "2 * 10 = 20\n",
      "3 * 1 = 3\n",
      "3 * 2 = 6\n",
      "3 * 3 = 9\n",
      "3 * 4 = 12\n",
      "3 * 5 = 15\n",
      "3 * 6 = 18\n",
      "3 * 7 = 21\n",
      "3 * 8 = 24\n",
      "3 * 9 = 27\n",
      "3 * 10 = 30\n",
      "4 * 1 = 4\n",
      "4 * 2 = 8\n",
      "4 * 3 = 12\n",
      "4 * 4 = 16\n",
      "4 * 5 = 20\n",
      "4 * 6 = 24\n",
      "4 * 7 = 28\n",
      "4 * 8 = 32\n",
      "4 * 9 = 36\n",
      "4 * 10 = 40\n",
      "5 * 1 = 5\n",
      "5 * 2 = 10\n",
      "5 * 3 = 15\n",
      "5 * 4 = 20\n",
      "5 * 5 = 25\n",
      "5 * 6 = 30\n",
      "5 * 7 = 35\n",
      "5 * 8 = 40\n",
      "5 * 9 = 45\n",
      "5 * 10 = 50\n",
      "6 * 1 = 6\n",
      "6 * 2 = 12\n",
      "6 * 3 = 18\n",
      "6 * 4 = 24\n",
      "6 * 5 = 30\n",
      "6 * 6 = 36\n",
      "6 * 7 = 42\n",
      "6 * 8 = 48\n",
      "6 * 9 = 54\n",
      "6 * 10 = 60\n",
      "7 * 1 = 7\n",
      "7 * 2 = 14\n",
      "7 * 3 = 21\n",
      "7 * 4 = 28\n",
      "7 * 5 = 35\n",
      "7 * 6 = 42\n",
      "7 * 7 = 49\n",
      "7 * 8 = 56\n",
      "7 * 9 = 63\n",
      "7 * 10 = 70\n",
      "8 * 1 = 8\n",
      "8 * 2 = 16\n",
      "8 * 3 = 24\n",
      "8 * 4 = 32\n",
      "8 * 5 = 40\n",
      "8 * 6 = 48\n",
      "8 * 7 = 56\n",
      "8 * 8 = 64\n",
      "8 * 9 = 72\n",
      "8 * 10 = 80\n",
      "9 * 1 = 9\n",
      "9 * 2 = 18\n",
      "9 * 3 = 27\n",
      "9 * 4 = 36\n",
      "9 * 5 = 45\n",
      "9 * 6 = 54\n",
      "9 * 7 = 63\n",
      "9 * 8 = 72\n",
      "9 * 9 = 81\n",
      "9 * 10 = 90\n",
      "10 * 1 = 10\n",
      "10 * 2 = 20\n",
      "10 * 3 = 30\n",
      "10 * 4 = 40\n",
      "10 * 5 = 50\n",
      "10 * 6 = 60\n",
      "10 * 7 = 70\n",
      "10 * 8 = 80\n",
      "10 * 9 = 90\n",
      "10 * 10 = 100\n"
     ]
    }
   ],
   "source": [
    "n=int(input())\n",
    "s=int(input())\n",
    "for i in range(n,s+1):\n",
    "    for j in range(1,11):\n",
    "        print(i,\"*\",j,\"=\",i*j)\n",
    "             "
   ]
  },
  {
   "cell_type": "code",
   "execution_count": null,
   "id": "f0a4dcd1",
   "metadata": {},
   "outputs": [],
   "source": [
    "# nested while\n",
    "- loop inside another loop"
   ]
  },
  {
   "cell_type": "code",
   "execution_count": null,
   "id": "7dfd1c6a",
   "metadata": {},
   "outputs": [],
   "source": [
    "# syntax\n",
    "initialization\n",
    "while condition:\n",
    "    statements\n",
    "    incr/decr\n",
    "    while condition:\n",
    "        statements\n",
    "        incr/decr"
   ]
  },
  {
   "cell_type": "code",
   "execution_count": 2,
   "id": "be5d9b62",
   "metadata": {},
   "outputs": [
    {
     "name": "stdout",
     "output_type": "stream",
     "text": [
      "1 * 1 = 1\n",
      "\n",
      "2 * 2 = 4\n",
      "\n",
      "3 * 3 = 9\n",
      "\n",
      "4 * 4 = 16\n",
      "\n",
      "5 * 5 = 25\n",
      "\n",
      "6 * 6 = 36\n",
      "\n",
      "7 * 7 = 49\n",
      "\n",
      "8 * 8 = 64\n",
      "\n",
      "9 * 9 = 81\n",
      "\n",
      "10 * 10 = 100\n",
      "\n"
     ]
    }
   ],
   "source": [
    "# 1 to 10 tables\n",
    "i=1\n",
    "while i<=10:\n",
    "    j=1\n",
    "    while j<=10:\n",
    "        print(i,\"*\",j,\"=\",i*j)\n",
    "        j+=1\n",
    "        print()\n",
    "        i+=1\n",
    "    \n",
    "    "
   ]
  },
  {
   "cell_type": "markdown",
   "id": "02528885",
   "metadata": {},
   "source": [
    "### jump statements\n",
    "- we called as unconditional jumps\n",
    "- break\n",
    "- continue\n",
    "- pass"
   ]
  },
  {
   "cell_type": "markdown",
   "id": "0c84916c",
   "metadata": {},
   "source": [
    "### Break\n",
    "- terminates the current loop statements\n",
    "- break is a keyword"
   ]
  },
  {
   "cell_type": "code",
   "execution_count": 3,
   "id": "1066229e",
   "metadata": {},
   "outputs": [
    {
     "name": "stdout",
     "output_type": "stream",
     "text": [
      "p\n",
      "y\n",
      "t\n"
     ]
    }
   ],
   "source": [
    "for i in \"python\":\n",
    "    if i=='h':\n",
    "        break\n",
    "    print(i)    "
   ]
  },
  {
   "cell_type": "code",
   "execution_count": 4,
   "id": "82c82d68",
   "metadata": {},
   "outputs": [
    {
     "name": "stdout",
     "output_type": "stream",
     "text": [
      "1\n",
      "2\n",
      "3\n",
      "4\n",
      "5\n"
     ]
    }
   ],
   "source": [
    "i=1\n",
    "while(i<=10):\n",
    "    print(i)\n",
    "    i+=1\n",
    "    if(i==6):\n",
    "        break\n",
    "    \n",
    "        \n",
    "    "
   ]
  },
  {
   "cell_type": "markdown",
   "id": "6224d15a",
   "metadata": {},
   "source": [
    "### continue\n",
    "- it skips only current iteration and continue the next iteration\n",
    "- continue is also a keyword"
   ]
  },
  {
   "cell_type": "code",
   "execution_count": 5,
   "id": "9a77c165",
   "metadata": {},
   "outputs": [
    {
     "name": "stdout",
     "output_type": "stream",
     "text": [
      "0\n",
      "1\n",
      "2\n",
      "3\n",
      "4\n",
      "5\n",
      "7\n",
      "8\n",
      "9\n"
     ]
    }
   ],
   "source": [
    "for i in range(10):\n",
    "    if i==6:\n",
    "        continue\n",
    "        print(\"vasavi\")\n",
    "    print(i)    "
   ]
  },
  {
   "cell_type": "code",
   "execution_count": 8,
   "id": "13cb8d0b",
   "metadata": {},
   "outputs": [
    {
     "name": "stdout",
     "output_type": "stream",
     "text": [
      "1 3 5 7 9 "
     ]
    }
   ],
   "source": [
    "# print odd number using even number condition\n",
    "for i in range(1,10):\n",
    "    if i%2==0:\n",
    "        continue\n",
    "    print(i,end=\" \")    \n"
   ]
  },
  {
   "cell_type": "markdown",
   "id": "314611ad",
   "metadata": {},
   "source": [
    "### pass\n",
    "- it is a keyword\n",
    "- whwn we need condition scientifically correct need to change another operation\n",
    "- it is a null operation\n",
    "- pass statement we use to creat empty classes also"
   ]
  },
  {
   "cell_type": "code",
   "execution_count": 9,
   "id": "688d59a0",
   "metadata": {},
   "outputs": [
    {
     "name": "stdout",
     "output_type": "stream",
     "text": [
      "p\n",
      "y\n",
      "t\n",
      "pass executed\n",
      "h\n",
      "o\n",
      "n\n"
     ]
    }
   ],
   "source": [
    "s=\"python\"\n",
    "for i in s:\n",
    "    if i=='h':\n",
    "        pass\n",
    "        print(\"pass executed\")\n",
    "    print(i)    \n",
    "       "
   ]
  },
  {
   "cell_type": "markdown",
   "id": "00e28c50",
   "metadata": {},
   "source": [
    "### string\n",
    "- string is a group of characters\n",
    "- string is a derived datatype and immutable\n",
    "- all strings return a new values"
   ]
  },
  {
   "cell_type": "code",
   "execution_count": 17,
   "id": "12c6be28",
   "metadata": {},
   "outputs": [
    {
     "name": "stdout",
     "output_type": "stream",
     "text": [
      "<class 'str'>\n"
     ]
    }
   ],
   "source": [
    "a=\"vasavicollage\"\n",
    "print(type(a))"
   ]
  },
  {
   "cell_type": "code",
   "execution_count": 18,
   "id": "feb5fb1f",
   "metadata": {},
   "outputs": [
    {
     "name": "stdout",
     "output_type": "stream",
     "text": [
      "13\n"
     ]
    }
   ],
   "source": [
    "print(len(a))"
   ]
  },
  {
   "cell_type": "code",
   "execution_count": 19,
   "id": "0188ee61",
   "metadata": {},
   "outputs": [
    {
     "name": "stdout",
     "output_type": "stream",
     "text": [
      "a\n",
      "v\n",
      "['a', 'a', 'a', 'c', 'e', 'g', 'i', 'l', 'l', 'o', 's', 'v', 'v']\n"
     ]
    }
   ],
   "source": [
    "print(min(a))\n",
    "print(max(a))\n",
    "print(sorted(a))\n",
    "#print(sum(a))"
   ]
  },
  {
   "cell_type": "code",
   "execution_count": 15,
   "id": "d6c94829",
   "metadata": {},
   "outputs": [
    {
     "name": "stdout",
     "output_type": "stream",
     "text": [
      "pythonworkshop\n",
      "python workshop\n"
     ]
    },
    {
     "ename": "TypeError",
     "evalue": "can't multiply sequence by non-int of type 'str'",
     "output_type": "error",
     "traceback": [
      "\u001b[1;31m---------------------------------------------------------------------------\u001b[0m",
      "\u001b[1;31mTypeError\u001b[0m                                 Traceback (most recent call last)",
      "\u001b[1;32m~\\AppData\\Local\\Temp/ipykernel_4092/1439522826.py\u001b[0m in \u001b[0;36m<module>\u001b[1;34m\u001b[0m\n\u001b[0;32m      3\u001b[0m \u001b[0mprint\u001b[0m\u001b[1;33m(\u001b[0m\u001b[0ms\u001b[0m\u001b[1;33m+\u001b[0m\u001b[0ms1\u001b[0m\u001b[1;33m)\u001b[0m\u001b[1;33m\u001b[0m\u001b[1;33m\u001b[0m\u001b[0m\n\u001b[0;32m      4\u001b[0m \u001b[0mprint\u001b[0m\u001b[1;33m(\u001b[0m\u001b[0ms\u001b[0m\u001b[1;33m,\u001b[0m\u001b[0ms1\u001b[0m\u001b[1;33m)\u001b[0m\u001b[1;33m\u001b[0m\u001b[1;33m\u001b[0m\u001b[0m\n\u001b[1;32m----> 5\u001b[1;33m \u001b[0mprint\u001b[0m\u001b[1;33m(\u001b[0m\u001b[0ms\u001b[0m\u001b[1;33m*\u001b[0m\u001b[0ms1\u001b[0m\u001b[1;33m)\u001b[0m\u001b[1;33m\u001b[0m\u001b[1;33m\u001b[0m\u001b[0m\n\u001b[0m",
      "\u001b[1;31mTypeError\u001b[0m: can't multiply sequence by non-int of type 'str'"
     ]
    }
   ],
   "source": [
    "s=\"python\"\n",
    "s1=\"workshop\"\n",
    "print(s+s1)\n",
    "print(s,s1)\n",
    "print(s*s1)"
   ]
  },
  {
   "cell_type": "code",
   "execution_count": 23,
   "id": "c28b3d61",
   "metadata": {},
   "outputs": [
    {
     "name": "stdout",
     "output_type": "stream",
     "text": [
      "15\n",
      "p\n",
      "n\n",
      "p\n",
      "p\n",
      "o\n",
      "python workshop\n",
      "pohskrow nohtyp\n",
      "pyth\n",
      "n works\n",
      "\n"
     ]
    }
   ],
   "source": [
    "# slicing syntax::(start:end:step)\n",
    "# positive indexing(lest to right)\n",
    "# negative indexing(right to left)\n",
    "s=\"python workshop\"\n",
    "print(len(s))\n",
    "print(s[0])\n",
    "print(s[5])\n",
    "print(s[14])\n",
    "print(s[-1])\n",
    "print(s[-2])\n",
    "print(s[::])\n",
    "print(s[::-1])\n",
    "print(s[0:4])\n",
    "print(s[5:12])\n",
    "print(s[-1:-5])"
   ]
  },
  {
   "cell_type": "code",
   "execution_count": null,
   "id": "93568a9d",
   "metadata": {},
   "outputs": [],
   "source": []
  }
 ],
 "metadata": {
  "kernelspec": {
   "display_name": "Python 3 (ipykernel)",
   "language": "python",
   "name": "python3"
  },
  "language_info": {
   "codemirror_mode": {
    "name": "ipython",
    "version": 3
   },
   "file_extension": ".py",
   "mimetype": "text/x-python",
   "name": "python",
   "nbconvert_exporter": "python",
   "pygments_lexer": "ipython3",
   "version": "3.9.7"
  }
 },
 "nbformat": 4,
 "nbformat_minor": 5
}
