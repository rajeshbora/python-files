{
 "cells": [
  {
   "cell_type": "code",
   "execution_count": 1,
   "id": "1eeafa1e",
   "metadata": {},
   "outputs": [
    {
     "data": {
      "text/plain": [
       "['__add__',\n",
       " '__class__',\n",
       " '__class_getitem__',\n",
       " '__contains__',\n",
       " '__delattr__',\n",
       " '__delitem__',\n",
       " '__dir__',\n",
       " '__doc__',\n",
       " '__eq__',\n",
       " '__format__',\n",
       " '__ge__',\n",
       " '__getattribute__',\n",
       " '__getitem__',\n",
       " '__gt__',\n",
       " '__hash__',\n",
       " '__iadd__',\n",
       " '__imul__',\n",
       " '__init__',\n",
       " '__init_subclass__',\n",
       " '__iter__',\n",
       " '__le__',\n",
       " '__len__',\n",
       " '__lt__',\n",
       " '__mul__',\n",
       " '__ne__',\n",
       " '__new__',\n",
       " '__reduce__',\n",
       " '__reduce_ex__',\n",
       " '__repr__',\n",
       " '__reversed__',\n",
       " '__rmul__',\n",
       " '__setattr__',\n",
       " '__setitem__',\n",
       " '__sizeof__',\n",
       " '__str__',\n",
       " '__subclasshook__',\n",
       " 'append',\n",
       " 'clear',\n",
       " 'copy',\n",
       " 'count',\n",
       " 'extend',\n",
       " 'index',\n",
       " 'insert',\n",
       " 'pop',\n",
       " 'remove',\n",
       " 'reverse',\n",
       " 'sort']"
      ]
     },
     "execution_count": 1,
     "metadata": {},
     "output_type": "execute_result"
    }
   ],
   "source": [
    "dir(list)"
   ]
  },
  {
   "cell_type": "code",
   "execution_count": 2,
   "id": "9942e91b",
   "metadata": {},
   "outputs": [
    {
     "name": "stdout",
     "output_type": "stream",
     "text": [
      "[2, 6, 9, 20, 'apple']\n",
      "['mahesh', 'vasavi', 23, 45, 67, 96]\n",
      "[4, 6, 89, 2, 34, 'and']\n"
     ]
    }
   ],
   "source": [
    "li=[2,6,9,20,'apple']\n",
    "li1=['mahesh','vasavi',23,45,67,96]\n",
    "li2=[4,6,89,2,34,'and']\n",
    "print(li)\n",
    "print(li1)\n",
    "print(li2)"
   ]
  },
  {
   "cell_type": "code",
   "execution_count": 4,
   "id": "17a785e6",
   "metadata": {},
   "outputs": [
    {
     "data": {
      "text/plain": [
       "[2, 6, 9, 20, 'apple', 88, 88]"
      ]
     },
     "execution_count": 4,
     "metadata": {},
     "output_type": "execute_result"
    }
   ],
   "source": [
    "# Append - we will add only single value\n",
    "# Extend - we will add more than one value\n",
    "li.append(88)\n",
    "li"
   ]
  },
  {
   "cell_type": "code",
   "execution_count": 5,
   "id": "435315a2",
   "metadata": {},
   "outputs": [
    {
     "data": {
      "text/plain": [
       "[2, 6, 9, 20, 'apple', 88, 88, 1, 2, 34]"
      ]
     },
     "execution_count": 5,
     "metadata": {},
     "output_type": "execute_result"
    }
   ],
   "source": [
    "li.extend([1,2,34])\n",
    "li"
   ]
  },
  {
   "cell_type": "code",
   "execution_count": 6,
   "id": "8496b971",
   "metadata": {},
   "outputs": [
    {
     "name": "stdout",
     "output_type": "stream",
     "text": [
      "[1, 2, 3, 4, 5]\n"
     ]
    }
   ],
   "source": [
    "li=[1,2,3,4,5,6]\n",
    "li.pop()\n",
    "print(li)"
   ]
  },
  {
   "cell_type": "code",
   "execution_count": 7,
   "id": "b1194a7c",
   "metadata": {},
   "outputs": [
    {
     "name": "stdout",
     "output_type": "stream",
     "text": [
      "[5, 4, 3, 2, 1]\n"
     ]
    }
   ],
   "source": [
    "li.reverse()\n",
    "print(li)"
   ]
  },
  {
   "cell_type": "code",
   "execution_count": 8,
   "id": "1c85caa8",
   "metadata": {},
   "outputs": [
    {
     "data": {
      "text/plain": [
       "[]"
      ]
     },
     "execution_count": 8,
     "metadata": {},
     "output_type": "execute_result"
    }
   ],
   "source": [
    "li.clear()\n",
    "li"
   ]
  },
  {
   "cell_type": "code",
   "execution_count": 10,
   "id": "7c653d5d",
   "metadata": {},
   "outputs": [
    {
     "data": {
      "text/plain": [
       "[1, 2, 3, 'nine', 4, 5, 6]"
      ]
     },
     "execution_count": 10,
     "metadata": {},
     "output_type": "execute_result"
    }
   ],
   "source": [
    "li=[1,2,3,4,5,6]\n",
    "li.insert(3,'nine')\n",
    "li"
   ]
  },
  {
   "cell_type": "code",
   "execution_count": 14,
   "id": "9738d2fc",
   "metadata": {},
   "outputs": [
    {
     "name": "stdout",
     "output_type": "stream",
     "text": [
      "[0, 2, 4, 6, 8, 10]\n",
      "[1, 3, 5, 7, 9]\n",
      "[0, 2, 4, 6, 8, 10, 1, 3, 5, 7, 9]\n"
     ]
    }
   ],
   "source": [
    "# 0-10 range\n",
    "# program\n",
    "# print even number\n",
    "# print odd number\n",
    "# print result(total number(0-10))\n",
    "even=[]\n",
    "odd=[]\n",
    "for i in range(0,11):\n",
    "    if(i%2==0):\n",
    "        even.append(i)\n",
    "    else:\n",
    "        odd.append(i)\n",
    "print(even)\n",
    "print(odd)\n",
    "print(even+odd)\n",
    "        "
   ]
  },
  {
   "cell_type": "code",
   "execution_count": 15,
   "id": "dc461de7",
   "metadata": {},
   "outputs": [
    {
     "name": "stdout",
     "output_type": "stream",
     "text": [
      "\n",
      " largest number : 645\n"
     ]
    }
   ],
   "source": [
    "# print largest value\n",
    "si=[1,3,645,8,34,300,79]\n",
    "high=0\n",
    "for i in si:\n",
    "    if i>=high:\n",
    "        high=i\n",
    "print(\"\\n largest number :\",high)\n",
    "\n"
   ]
  },
  {
   "cell_type": "markdown",
   "id": "239de537",
   "metadata": {},
   "source": [
    "# Tuple\n",
    "- tuple represented with ()\n"
   ]
  },
  {
   "cell_type": "code",
   "execution_count": 16,
   "id": "71dd8d3a",
   "metadata": {},
   "outputs": [
    {
     "data": {
      "text/plain": [
       "['__add__',\n",
       " '__class__',\n",
       " '__class_getitem__',\n",
       " '__contains__',\n",
       " '__delattr__',\n",
       " '__dir__',\n",
       " '__doc__',\n",
       " '__eq__',\n",
       " '__format__',\n",
       " '__ge__',\n",
       " '__getattribute__',\n",
       " '__getitem__',\n",
       " '__getnewargs__',\n",
       " '__gt__',\n",
       " '__hash__',\n",
       " '__init__',\n",
       " '__init_subclass__',\n",
       " '__iter__',\n",
       " '__le__',\n",
       " '__len__',\n",
       " '__lt__',\n",
       " '__mul__',\n",
       " '__ne__',\n",
       " '__new__',\n",
       " '__reduce__',\n",
       " '__reduce_ex__',\n",
       " '__repr__',\n",
       " '__rmul__',\n",
       " '__setattr__',\n",
       " '__sizeof__',\n",
       " '__str__',\n",
       " '__subclasshook__',\n",
       " 'count',\n",
       " 'index']"
      ]
     },
     "execution_count": 16,
     "metadata": {},
     "output_type": "execute_result"
    }
   ],
   "source": [
    "dir(tuple)"
   ]
  },
  {
   "cell_type": "code",
   "execution_count": 17,
   "id": "1b268472",
   "metadata": {},
   "outputs": [
    {
     "data": {
      "text/plain": [
       "(1, 2, 3, 4, 5, 6)"
      ]
     },
     "execution_count": 17,
     "metadata": {},
     "output_type": "execute_result"
    }
   ],
   "source": [
    "t=(1,2,3,4,5,6)\n",
    "t"
   ]
  },
  {
   "cell_type": "code",
   "execution_count": 18,
   "id": "cf840609",
   "metadata": {},
   "outputs": [
    {
     "name": "stdout",
     "output_type": "stream",
     "text": [
      "<class 'tuple'>\n"
     ]
    }
   ],
   "source": [
    "print(type(t))"
   ]
  },
  {
   "cell_type": "code",
   "execution_count": 19,
   "id": "a9ef826b",
   "metadata": {},
   "outputs": [
    {
     "data": {
      "text/plain": [
       "1"
      ]
     },
     "execution_count": 19,
     "metadata": {},
     "output_type": "execute_result"
    }
   ],
   "source": [
    "t.count(2)"
   ]
  },
  {
   "cell_type": "code",
   "execution_count": 20,
   "id": "8de91aa6",
   "metadata": {},
   "outputs": [
    {
     "data": {
      "text/plain": [
       "1"
      ]
     },
     "execution_count": 20,
     "metadata": {},
     "output_type": "execute_result"
    }
   ],
   "source": [
    "t.index(2)"
   ]
  },
  {
   "cell_type": "code",
   "execution_count": 21,
   "id": "22a1b455",
   "metadata": {},
   "outputs": [
    {
     "data": {
      "text/plain": [
       "4"
      ]
     },
     "execution_count": 21,
     "metadata": {},
     "output_type": "execute_result"
    }
   ],
   "source": [
    "t.index(5)"
   ]
  },
  {
   "cell_type": "markdown",
   "id": "75d9ef06",
   "metadata": {},
   "source": [
    "# set \n",
    "- set is represented with {}"
   ]
  },
  {
   "cell_type": "code",
   "execution_count": 23,
   "id": "75bffaa6",
   "metadata": {},
   "outputs": [
    {
     "name": "stdout",
     "output_type": "stream",
     "text": [
      "<class 'set'>\n"
     ]
    }
   ],
   "source": [
    "li={1,2,3,4,5,6,7,9}\n",
    "print(type(li))"
   ]
  },
  {
   "cell_type": "code",
   "execution_count": 31,
   "id": "7053bc73",
   "metadata": {},
   "outputs": [],
   "source": [
    "s={1,2,3,4,5,6,7,9}\n",
    "t=(1,2,4,5,6,7)\n",
    "li=[2,4,78,9,7]"
   ]
  },
  {
   "cell_type": "code",
   "execution_count": 32,
   "id": "d7102628",
   "metadata": {},
   "outputs": [
    {
     "data": {
      "text/plain": [
       "list"
      ]
     },
     "execution_count": 32,
     "metadata": {},
     "output_type": "execute_result"
    }
   ],
   "source": [
    "type(li)"
   ]
  },
  {
   "cell_type": "code",
   "execution_count": 33,
   "id": "a1493d78",
   "metadata": {},
   "outputs": [
    {
     "data": {
      "text/plain": [
       "tuple"
      ]
     },
     "execution_count": 33,
     "metadata": {},
     "output_type": "execute_result"
    }
   ],
   "source": [
    "type(t)"
   ]
  },
  {
   "cell_type": "code",
   "execution_count": 34,
   "id": "7a804811",
   "metadata": {},
   "outputs": [
    {
     "data": {
      "text/plain": [
       "set"
      ]
     },
     "execution_count": 34,
     "metadata": {},
     "output_type": "execute_result"
    }
   ],
   "source": [
    "type(s)"
   ]
  },
  {
   "cell_type": "code",
   "execution_count": 30,
   "id": "cf2affb1",
   "metadata": {},
   "outputs": [
    {
     "name": "stdout",
     "output_type": "stream",
     "text": [
      "length of list: 8\n",
      "length of tuple: 6\n",
      "length of set: 5\n"
     ]
    }
   ],
   "source": [
    "print(\"length of list:\",len(li))\n",
    "print(\"length of tuple:\",len(t))\n",
    "print(\"length of set:\",len(s))"
   ]
  },
  {
   "cell_type": "code",
   "execution_count": 35,
   "id": "919ec5ca",
   "metadata": {},
   "outputs": [
    {
     "data": {
      "text/plain": [
       "['__and__',\n",
       " '__class__',\n",
       " '__class_getitem__',\n",
       " '__contains__',\n",
       " '__delattr__',\n",
       " '__dir__',\n",
       " '__doc__',\n",
       " '__eq__',\n",
       " '__format__',\n",
       " '__ge__',\n",
       " '__getattribute__',\n",
       " '__gt__',\n",
       " '__hash__',\n",
       " '__iand__',\n",
       " '__init__',\n",
       " '__init_subclass__',\n",
       " '__ior__',\n",
       " '__isub__',\n",
       " '__iter__',\n",
       " '__ixor__',\n",
       " '__le__',\n",
       " '__len__',\n",
       " '__lt__',\n",
       " '__ne__',\n",
       " '__new__',\n",
       " '__or__',\n",
       " '__rand__',\n",
       " '__reduce__',\n",
       " '__reduce_ex__',\n",
       " '__repr__',\n",
       " '__ror__',\n",
       " '__rsub__',\n",
       " '__rxor__',\n",
       " '__setattr__',\n",
       " '__sizeof__',\n",
       " '__str__',\n",
       " '__sub__',\n",
       " '__subclasshook__',\n",
       " '__xor__',\n",
       " 'add',\n",
       " 'clear',\n",
       " 'copy',\n",
       " 'difference',\n",
       " 'difference_update',\n",
       " 'discard',\n",
       " 'intersection',\n",
       " 'intersection_update',\n",
       " 'isdisjoint',\n",
       " 'issubset',\n",
       " 'issuperset',\n",
       " 'pop',\n",
       " 'remove',\n",
       " 'symmetric_difference',\n",
       " 'symmetric_difference_update',\n",
       " 'union',\n",
       " 'update']"
      ]
     },
     "execution_count": 35,
     "metadata": {},
     "output_type": "execute_result"
    }
   ],
   "source": [
    "dir(set)"
   ]
  },
  {
   "cell_type": "code",
   "execution_count": 36,
   "id": "86cdf2d3",
   "metadata": {},
   "outputs": [
    {
     "name": "stdout",
     "output_type": "stream",
     "text": [
      "{'dog', 'tiger', 'cat', 'fox', 'lion', 'peacock'}\n"
     ]
    }
   ],
   "source": [
    "s={'fox','cat','dog','lion','tiger','peacock'}\n",
    "print(s)"
   ]
  },
  {
   "cell_type": "code",
   "execution_count": 37,
   "id": "bc6289b2",
   "metadata": {},
   "outputs": [],
   "source": [
    "s.add('monkey')"
   ]
  },
  {
   "cell_type": "code",
   "execution_count": 38,
   "id": "91f72c2e",
   "metadata": {},
   "outputs": [
    {
     "data": {
      "text/plain": [
       "{'cat', 'dog', 'fox', 'lion', 'monkey', 'peacock', 'tiger'}"
      ]
     },
     "execution_count": 38,
     "metadata": {},
     "output_type": "execute_result"
    }
   ],
   "source": [
    "s"
   ]
  },
  {
   "cell_type": "code",
   "execution_count": 39,
   "id": "58f60de7",
   "metadata": {},
   "outputs": [
    {
     "name": "stdout",
     "output_type": "stream",
     "text": [
      "{1, 2, 'monkey', 3, 4, 'tiger', 'cat', 'dog', 'fox', 'lion', 'peacock'}\n"
     ]
    }
   ],
   "source": [
    "# update - to addd multiple elements at a time in a set\n",
    "s.update([1,2,3,4])\n",
    "print(s)"
   ]
  },
  {
   "cell_type": "markdown",
   "id": "fa2a7be0",
   "metadata": {},
   "source": [
    "# deletion\n",
    "   - clear()-to clear all data\n",
    "   - remove()-it is used to remove particular value\n",
    "   - discard()-it is also used to discard particular data\n",
    "   - pop()-to delete random elements\n"
   ]
  },
  {
   "cell_type": "code",
   "execution_count": 44,
   "id": "6814d588",
   "metadata": {},
   "outputs": [
    {
     "name": "stdout",
     "output_type": "stream",
     "text": [
      "{'dog', 'tiger', 'cat', 'fox', 'lion', 'peacock'}\n"
     ]
    }
   ],
   "source": [
    "s={'fox','cat','dog','lion','tiger','peacock'}\n",
    "print(s)"
   ]
  },
  {
   "cell_type": "code",
   "execution_count": 45,
   "id": "289f39b0",
   "metadata": {},
   "outputs": [],
   "source": [
    "s.remove('cat')"
   ]
  },
  {
   "cell_type": "code",
   "execution_count": 46,
   "id": "d0eb5940",
   "metadata": {},
   "outputs": [
    {
     "data": {
      "text/plain": [
       "{'dog', 'fox', 'lion', 'peacock', 'tiger'}"
      ]
     },
     "execution_count": 46,
     "metadata": {},
     "output_type": "execute_result"
    }
   ],
   "source": [
    "s"
   ]
  },
  {
   "cell_type": "code",
   "execution_count": 47,
   "id": "340ce0f2",
   "metadata": {},
   "outputs": [],
   "source": [
    "s.discard('lion')"
   ]
  },
  {
   "cell_type": "code",
   "execution_count": 48,
   "id": "9d46cd4c",
   "metadata": {},
   "outputs": [
    {
     "data": {
      "text/plain": [
       "{'dog', 'fox', 'peacock', 'tiger'}"
      ]
     },
     "execution_count": 48,
     "metadata": {},
     "output_type": "execute_result"
    }
   ],
   "source": [
    "s"
   ]
  },
  {
   "cell_type": "code",
   "execution_count": 49,
   "id": "1e914ce0",
   "metadata": {},
   "outputs": [
    {
     "data": {
      "text/plain": [
       "'dog'"
      ]
     },
     "execution_count": 49,
     "metadata": {},
     "output_type": "execute_result"
    }
   ],
   "source": [
    "s.pop()"
   ]
  },
  {
   "cell_type": "code",
   "execution_count": 50,
   "id": "aba12254",
   "metadata": {},
   "outputs": [
    {
     "data": {
      "text/plain": [
       "{'fox', 'peacock', 'tiger'}"
      ]
     },
     "execution_count": 50,
     "metadata": {},
     "output_type": "execute_result"
    }
   ],
   "source": [
    "s"
   ]
  },
  {
   "cell_type": "code",
   "execution_count": 51,
   "id": "ea6fc2d2",
   "metadata": {},
   "outputs": [],
   "source": [
    "s.clear()"
   ]
  },
  {
   "cell_type": "code",
   "execution_count": 52,
   "id": "b6122be0",
   "metadata": {},
   "outputs": [
    {
     "data": {
      "text/plain": [
       "set()"
      ]
     },
     "execution_count": 52,
     "metadata": {},
     "output_type": "execute_result"
    }
   ],
   "source": [
    "s"
   ]
  },
  {
   "cell_type": "markdown",
   "id": "b5ceebce",
   "metadata": {},
   "source": [
    "## set Operation\n",
    "- union:combination of all elements from 2 sets\n",
    "- intersection:common elemnts form two sets\n",
    "- Difference: all the remaining elements from a set after removing common elements\n",
    "- symetric-difference: uncommon element from both sets"
   ]
  },
  {
   "cell_type": "code",
   "execution_count": 54,
   "id": "bf13b1fd",
   "metadata": {},
   "outputs": [
    {
     "name": "stdout",
     "output_type": "stream",
     "text": [
      "{2, 3, 4, 5, 6, 7, 8, 9, 10}\n"
     ]
    }
   ],
   "source": [
    "a={2,3,4,5,6,7,8}\n",
    "b={3,4,7,10,9,5}\n",
    "print(a.union(b))"
   ]
  },
  {
   "cell_type": "code",
   "execution_count": 55,
   "id": "b639c44d",
   "metadata": {},
   "outputs": [
    {
     "name": "stdout",
     "output_type": "stream",
     "text": [
      "{2, 3, 4, 5, 6, 7, 8}\n"
     ]
    }
   ],
   "source": [
    "print(a)"
   ]
  },
  {
   "cell_type": "code",
   "execution_count": 56,
   "id": "4a9fe39c",
   "metadata": {},
   "outputs": [
    {
     "name": "stdout",
     "output_type": "stream",
     "text": [
      "{3, 4, 5, 7, 9, 10}\n"
     ]
    }
   ],
   "source": [
    "print(b)"
   ]
  },
  {
   "cell_type": "code",
   "execution_count": 57,
   "id": "2a15f880",
   "metadata": {},
   "outputs": [
    {
     "name": "stdout",
     "output_type": "stream",
     "text": [
      "{3, 4, 5, 7}\n"
     ]
    }
   ],
   "source": [
    "print(a.intersection(b))"
   ]
  },
  {
   "cell_type": "code",
   "execution_count": 59,
   "id": "ed3987bb",
   "metadata": {},
   "outputs": [
    {
     "name": "stdout",
     "output_type": "stream",
     "text": [
      "{8, 2, 6}\n",
      "{9, 10}\n"
     ]
    }
   ],
   "source": [
    "print(a.difference(b))\n",
    "print(b.difference(a))\n",
    "\n"
   ]
  },
  {
   "cell_type": "code",
   "execution_count": 61,
   "id": "9161a6e9",
   "metadata": {},
   "outputs": [
    {
     "name": "stdout",
     "output_type": "stream",
     "text": [
      "{2, 6, 8, 9, 10}\n"
     ]
    }
   ],
   "source": [
    "print(a.symmetric_difference(b))"
   ]
  },
  {
   "cell_type": "code",
   "execution_count": 64,
   "id": "a6642374",
   "metadata": {},
   "outputs": [
    {
     "data": {
      "text/plain": [
       "{3, 4, 5, 6, 10, 90}"
      ]
     },
     "execution_count": 64,
     "metadata": {},
     "output_type": "execute_result"
    }
   ],
   "source": [
    "a={10,3,4,5,6,90}\n",
    "a1=a.copy()\n",
    "a1"
   ]
  },
  {
   "cell_type": "code",
   "execution_count": 67,
   "id": "14333927",
   "metadata": {},
   "outputs": [
    {
     "name": "stdout",
     "output_type": "stream",
     "text": [
      "True\n",
      "True\n"
     ]
    }
   ],
   "source": [
    "m={1,2,3,4,5,6}\n",
    "n={3,6}\n",
    "print(n.issubset(m))\n",
    "print(m.issuperset(n))"
   ]
  },
  {
   "cell_type": "code",
   "execution_count": 68,
   "id": "f457eaa5",
   "metadata": {},
   "outputs": [
    {
     "data": {
      "text/plain": [
       "True"
      ]
     },
     "execution_count": 68,
     "metadata": {},
     "output_type": "execute_result"
    }
   ],
   "source": [
    "l={4,5,6,7}\n",
    "p={1,2,3}\n",
    "l.isdisjoint(p)"
   ]
  },
  {
   "cell_type": "code",
   "execution_count": 70,
   "id": "4735423c",
   "metadata": {},
   "outputs": [
    {
     "name": "stdout",
     "output_type": "stream",
     "text": [
      "None\n"
     ]
    }
   ],
   "source": [
    "p={10,20,30,40}\n",
    "q={40,50,60,70}\n",
    "print(p.difference_update(q))"
   ]
  },
  {
   "cell_type": "code",
   "execution_count": 73,
   "id": "f3cc59cd",
   "metadata": {},
   "outputs": [
    {
     "name": "stdout",
     "output_type": "stream",
     "text": [
      "{10, 20, 30}\n",
      "{40, 50, 60, 70}\n"
     ]
    }
   ],
   "source": [
    "print(p)\n",
    "print(q)"
   ]
  },
  {
   "cell_type": "markdown",
   "id": "c8562b0a",
   "metadata": {},
   "source": [
    "#  Dictionaries\n",
    "- dictionary is an unordered collection of items\n",
    "- each item of dictionary has a key and value pair :::{key:value}\n",
    "- dictionary is mutable and changable\n",
    "- in python dictionary written in {}\n",
    "- keys are not allow duplicate values\n",
    "- values are allowed to duplicate values\n",
    "- enter dictionary depending upon key\n",
    "    - keys are unique in nature\n",
    "    - keys can be return in any data type\n",
    "- values may be similar to values,mentioned as any datatype\n",
    "- key and values together called as item\n",
    "- In dictionary indexingis not supported"
   ]
  },
  {
   "cell_type": "code",
   "execution_count": 74,
   "id": "04b31f54",
   "metadata": {},
   "outputs": [
    {
     "name": "stdout",
     "output_type": "stream",
     "text": [
      "<class 'dict'>\n"
     ]
    }
   ],
   "source": [
    "d={}\n",
    "print(type(d))"
   ]
  },
  {
   "cell_type": "code",
   "execution_count": 76,
   "id": "22ba3cc8",
   "metadata": {},
   "outputs": [
    {
     "data": {
      "text/plain": [
       "{43: 67, 89: 34, 90: 47}"
      ]
     },
     "execution_count": 76,
     "metadata": {},
     "output_type": "execute_result"
    }
   ],
   "source": [
    "d={43:56,89:34,90:47,43:67}# key can't mention duplicate values\n",
    "d"
   ]
  },
  {
   "cell_type": "code",
   "execution_count": 77,
   "id": "bc4de368",
   "metadata": {},
   "outputs": [
    {
     "name": "stdout",
     "output_type": "stream",
     "text": [
      "222\n",
      "90\n",
      "43\n",
      "3\n",
      "[43, 89, 90]\n"
     ]
    }
   ],
   "source": [
    "print(sum(d))\n",
    "print(max(d))\n",
    "print(min(d))\n",
    "print(len(d))\n",
    "print(sorted(d))\n"
   ]
  },
  {
   "cell_type": "code",
   "execution_count": 78,
   "id": "5d691ce7",
   "metadata": {},
   "outputs": [
    {
     "data": {
      "text/plain": [
       "47"
      ]
     },
     "execution_count": 78,
     "metadata": {},
     "output_type": "execute_result"
    }
   ],
   "source": [
    "d[90]"
   ]
  },
  {
   "cell_type": "code",
   "execution_count": 79,
   "id": "ccfc0226",
   "metadata": {},
   "outputs": [
    {
     "data": {
      "text/plain": [
       "{23: 234, 24: 45, 26: 474, 56: {23, 45, 67}}"
      ]
     },
     "execution_count": 79,
     "metadata": {},
     "output_type": "execute_result"
    }
   ],
   "source": [
    "d1={23:234,24:45,26:474,56:{23,45,67}}\n",
    "d1"
   ]
  },
  {
   "cell_type": "code",
   "execution_count": 81,
   "id": "5cfedf43",
   "metadata": {},
   "outputs": [
    {
     "data": {
      "text/plain": [
       "{23, 45, 67}"
      ]
     },
     "execution_count": 81,
     "metadata": {},
     "output_type": "execute_result"
    }
   ],
   "source": [
    "d1[56]"
   ]
  },
  {
   "cell_type": "code",
   "execution_count": 82,
   "id": "20890c98",
   "metadata": {},
   "outputs": [
    {
     "data": {
      "text/plain": [
       "['__class__',\n",
       " '__class_getitem__',\n",
       " '__contains__',\n",
       " '__delattr__',\n",
       " '__delitem__',\n",
       " '__dir__',\n",
       " '__doc__',\n",
       " '__eq__',\n",
       " '__format__',\n",
       " '__ge__',\n",
       " '__getattribute__',\n",
       " '__getitem__',\n",
       " '__gt__',\n",
       " '__hash__',\n",
       " '__init__',\n",
       " '__init_subclass__',\n",
       " '__ior__',\n",
       " '__iter__',\n",
       " '__le__',\n",
       " '__len__',\n",
       " '__lt__',\n",
       " '__ne__',\n",
       " '__new__',\n",
       " '__or__',\n",
       " '__reduce__',\n",
       " '__reduce_ex__',\n",
       " '__repr__',\n",
       " '__reversed__',\n",
       " '__ror__',\n",
       " '__setattr__',\n",
       " '__setitem__',\n",
       " '__sizeof__',\n",
       " '__str__',\n",
       " '__subclasshook__',\n",
       " 'clear',\n",
       " 'copy',\n",
       " 'fromkeys',\n",
       " 'get',\n",
       " 'items',\n",
       " 'keys',\n",
       " 'pop',\n",
       " 'popitem',\n",
       " 'setdefault',\n",
       " 'update',\n",
       " 'values']"
      ]
     },
     "execution_count": 82,
     "metadata": {},
     "output_type": "execute_result"
    }
   ],
   "source": [
    "dir(dict)"
   ]
  },
  {
   "cell_type": "code",
   "execution_count": 83,
   "id": "d6580e8d",
   "metadata": {},
   "outputs": [
    {
     "data": {
      "text/plain": [
       "{23, 45, 67}"
      ]
     },
     "execution_count": 83,
     "metadata": {},
     "output_type": "execute_result"
    }
   ],
   "source": [
    "d1.get(56)"
   ]
  },
  {
   "cell_type": "code",
   "execution_count": 84,
   "id": "74a652ea",
   "metadata": {},
   "outputs": [
    {
     "data": {
      "text/plain": [
       "dict_keys([23, 24, 26, 56])"
      ]
     },
     "execution_count": 84,
     "metadata": {},
     "output_type": "execute_result"
    }
   ],
   "source": [
    "d1.keys()"
   ]
  },
  {
   "cell_type": "code",
   "execution_count": 85,
   "id": "ca432de3",
   "metadata": {},
   "outputs": [
    {
     "data": {
      "text/plain": [
       "{23: 234, 24: 45, 26: 474, 56: {23, 45, 67}, 'python': 'workshop'}"
      ]
     },
     "execution_count": 85,
     "metadata": {},
     "output_type": "execute_result"
    }
   ],
   "source": [
    "d1['python']=\"workshop\"\n",
    "d1"
   ]
  },
  {
   "cell_type": "code",
   "execution_count": 86,
   "id": "bdccbff9",
   "metadata": {},
   "outputs": [
    {
     "data": {
      "text/plain": [
       "234"
      ]
     },
     "execution_count": 86,
     "metadata": {},
     "output_type": "execute_result"
    }
   ],
   "source": [
    "d1.pop(23)"
   ]
  },
  {
   "cell_type": "code",
   "execution_count": 87,
   "id": "2cbe91e6",
   "metadata": {},
   "outputs": [
    {
     "data": {
      "text/plain": [
       "{24: 45, 26: 474, 56: {23, 45, 67}, 'python': 'workshop'}"
      ]
     },
     "execution_count": 87,
     "metadata": {},
     "output_type": "execute_result"
    }
   ],
   "source": [
    "d1"
   ]
  },
  {
   "cell_type": "code",
   "execution_count": 90,
   "id": "9545bfb8",
   "metadata": {},
   "outputs": [
    {
     "data": {
      "text/plain": [
       "dict_items([(24, 45), (26, 474), (56, {67, 45, 23}), ('python', 'workshop')])"
      ]
     },
     "execution_count": 90,
     "metadata": {},
     "output_type": "execute_result"
    }
   ],
   "source": [
    "d1.items()"
   ]
  },
  {
   "cell_type": "code",
   "execution_count": 91,
   "id": "5bb4f99f",
   "metadata": {},
   "outputs": [
    {
     "data": {
      "text/plain": [
       "('python', 'workshop')"
      ]
     },
     "execution_count": 91,
     "metadata": {},
     "output_type": "execute_result"
    }
   ],
   "source": [
    "d1.popitem()"
   ]
  },
  {
   "cell_type": "code",
   "execution_count": 92,
   "id": "cd915408",
   "metadata": {},
   "outputs": [
    {
     "data": {
      "text/plain": [
       "{24: 45, 26: 474, 56: {23, 45, 67}}"
      ]
     },
     "execution_count": 92,
     "metadata": {},
     "output_type": "execute_result"
    }
   ],
   "source": [
    "d1"
   ]
  },
  {
   "cell_type": "code",
   "execution_count": 93,
   "id": "0c264afe",
   "metadata": {},
   "outputs": [
    {
     "name": "stdout",
     "output_type": "stream",
     "text": [
      "{24: 45, 26: 474, 56: {67, 45, 23}}\n",
      "{24: 45, 26: 474, 56: {67, 45, 23}}\n"
     ]
    }
   ],
   "source": [
    "d2=d1.copy()\n",
    "print(d2)\n",
    "print(d1)"
   ]
  },
  {
   "cell_type": "code",
   "execution_count": 97,
   "id": "9ab2bc7a",
   "metadata": {},
   "outputs": [
    {
     "data": {
      "text/plain": [
       "{'w': None, 'o': None, 'r': None, 'k': None}"
      ]
     },
     "execution_count": 97,
     "metadata": {},
     "output_type": "execute_result"
    }
   ],
   "source": [
    "d2.fromkeys(\"work\")"
   ]
  },
  {
   "cell_type": "code",
   "execution_count": 98,
   "id": "13b918b1",
   "metadata": {},
   "outputs": [
    {
     "data": {
      "text/plain": [
       "{'p': 45, 'y': 45, 't': 45, 'h': 45, 'o': 45, 'n': 45}"
      ]
     },
     "execution_count": 98,
     "metadata": {},
     "output_type": "execute_result"
    }
   ],
   "source": [
    "d2.fromkeys('python',45)"
   ]
  },
  {
   "cell_type": "code",
   "execution_count": 99,
   "id": "5eb0cdab",
   "metadata": {},
   "outputs": [
    {
     "name": "stdout",
     "output_type": "stream",
     "text": [
      "{24: 45, 26: 474, 56: {67, 45, 23}, 'dhoni': 'mahi'}\n"
     ]
    }
   ],
   "source": [
    "d2.update({'dhoni':'mahi'})\n",
    "print(d2)"
   ]
  },
  {
   "cell_type": "code",
   "execution_count": 101,
   "id": "cda6de87",
   "metadata": {},
   "outputs": [
    {
     "data": {
      "text/plain": [
       "{}"
      ]
     },
     "execution_count": 101,
     "metadata": {},
     "output_type": "execute_result"
    }
   ],
   "source": [
    "d2.clear()\n",
    "d2"
   ]
  },
  {
   "cell_type": "markdown",
   "id": "ed5a942f",
   "metadata": {},
   "source": [
    "# Modules and Packages:\n",
    "- module : is nothing but .py file or no of files it contains function\n",
    "    - module single are multiple files that can be reuse user code\n",
    "- Package:collection of modules\n",
    "    - package is a directory of such modules\n",
    "    - it possible to put several modules in to package\n",
    "- modules are two types:\n",
    "    - Builten module ex:math functions\n",
    "    - usert define modules"
   ]
  },
  {
   "cell_type": "code",
   "execution_count": 102,
   "id": "a7a2126a",
   "metadata": {},
   "outputs": [],
   "source": [
    "import math"
   ]
  },
  {
   "cell_type": "code",
   "execution_count": 103,
   "id": "2c2abbfb",
   "metadata": {},
   "outputs": [
    {
     "name": "stdout",
     "output_type": "stream",
     "text": [
      "['__doc__', '__loader__', '__name__', '__package__', '__spec__', 'acos', 'acosh', 'asin', 'asinh', 'atan', 'atan2', 'atanh', 'ceil', 'comb', 'copysign', 'cos', 'cosh', 'degrees', 'dist', 'e', 'erf', 'erfc', 'exp', 'expm1', 'fabs', 'factorial', 'floor', 'fmod', 'frexp', 'fsum', 'gamma', 'gcd', 'hypot', 'inf', 'isclose', 'isfinite', 'isinf', 'isnan', 'isqrt', 'lcm', 'ldexp', 'lgamma', 'log', 'log10', 'log1p', 'log2', 'modf', 'nan', 'nextafter', 'perm', 'pi', 'pow', 'prod', 'radians', 'remainder', 'sin', 'sinh', 'sqrt', 'tan', 'tanh', 'tau', 'trunc', 'ulp'] "
     ]
    }
   ],
   "source": [
    "print(dir(math),end=\" \")"
   ]
  },
  {
   "cell_type": "code",
   "execution_count": 104,
   "id": "0fe47e99",
   "metadata": {},
   "outputs": [],
   "source": [
    "from math import factorial,pi,remainder\n"
   ]
  },
  {
   "cell_type": "code",
   "execution_count": 105,
   "id": "22d8647a",
   "metadata": {},
   "outputs": [
    {
     "name": "stdout",
     "output_type": "stream",
     "text": [
      "3628800\n"
     ]
    }
   ],
   "source": [
    "print(factorial(10))"
   ]
  },
  {
   "cell_type": "code",
   "execution_count": 106,
   "id": "18b92d9f",
   "metadata": {},
   "outputs": [
    {
     "name": "stdout",
     "output_type": "stream",
     "text": [
      "3.141592653589793\n"
     ]
    }
   ],
   "source": [
    "print(pi)"
   ]
  },
  {
   "cell_type": "code",
   "execution_count": 110,
   "id": "a80d8419",
   "metadata": {},
   "outputs": [
    {
     "name": "stdout",
     "output_type": "stream",
     "text": [
      "2.0\n"
     ]
    }
   ],
   "source": [
    "print(remainder(20,6))"
   ]
  },
  {
   "cell_type": "code",
   "execution_count": 111,
   "id": "7f58870e",
   "metadata": {},
   "outputs": [],
   "source": [
    "from math import *"
   ]
  },
  {
   "cell_type": "code",
   "execution_count": 117,
   "id": "274847eb",
   "metadata": {},
   "outputs": [
    {
     "name": "stdout",
     "output_type": "stream",
     "text": [
      "12\n"
     ]
    }
   ],
   "source": [
    "print(floor(12.4))"
   ]
  },
  {
   "cell_type": "code",
   "execution_count": 114,
   "id": "d2cdb251",
   "metadata": {},
   "outputs": [
    {
     "name": "stdout",
     "output_type": "stream",
     "text": [
      "26\n"
     ]
    }
   ],
   "source": [
    "print(ceil(25.9))"
   ]
  },
  {
   "cell_type": "code",
   "execution_count": 116,
   "id": "8cfea114",
   "metadata": {},
   "outputs": [
    {
     "name": "stdout",
     "output_type": "stream",
     "text": [
      "26\n"
     ]
    }
   ],
   "source": [
    "print(ceil(25.1))"
   ]
  },
  {
   "cell_type": "code",
   "execution_count": 118,
   "id": "eaca2dee",
   "metadata": {},
   "outputs": [
    {
     "name": "stdout",
     "output_type": "stream",
     "text": [
      "2.6457513110645907\n"
     ]
    }
   ],
   "source": [
    "print(sqrt(7))"
   ]
  },
  {
   "cell_type": "code",
   "execution_count": 120,
   "id": "26613b60",
   "metadata": {},
   "outputs": [
    {
     "name": "stdout",
     "output_type": "stream",
     "text": [
      "-0.27941549819892586\n"
     ]
    }
   ],
   "source": [
    "print(sin(6))"
   ]
  },
  {
   "cell_type": "code",
   "execution_count": 122,
   "id": "a841e2fd",
   "metadata": {},
   "outputs": [
    {
     "name": "stdout",
     "output_type": "stream",
     "text": [
      "5\n"
     ]
    }
   ],
   "source": [
    "print(gcd(25,5))\n",
    "# gcd(a,b)=(a*b)/"
   ]
  },
  {
   "cell_type": "code",
   "execution_count": 123,
   "id": "b656dca7",
   "metadata": {},
   "outputs": [
    {
     "name": "stdout",
     "output_type": "stream",
     "text": [
      "['BPF', 'LOG4', 'NV_MAGICCONST', 'RECIP_BPF', 'Random', 'SG_MAGICCONST', 'SystemRandom', 'TWOPI', '_Sequence', '_Set', '__all__', '__builtins__', '__cached__', '__doc__', '__file__', '__loader__', '__name__', '__package__', '__spec__', '_accumulate', '_acos', '_bisect', '_ceil', '_cos', '_e', '_exp', '_floor', '_inst', '_log', '_os', '_pi', '_random', '_repeat', '_sha512', '_sin', '_sqrt', '_test', '_test_generator', '_urandom', '_warn', 'betavariate', 'choice', 'choices', 'expovariate', 'gammavariate', 'gauss', 'getrandbits', 'getstate', 'lognormvariate', 'normalvariate', 'paretovariate', 'randbytes', 'randint', 'random', 'randrange', 'sample', 'seed', 'setstate', 'shuffle', 'triangular', 'uniform', 'vonmisesvariate', 'weibullvariate']\n"
     ]
    }
   ],
   "source": [
    "import random\n",
    "print(dir(random))"
   ]
  },
  {
   "cell_type": "code",
   "execution_count": 124,
   "id": "49c6b773",
   "metadata": {},
   "outputs": [],
   "source": [
    "from random import *"
   ]
  },
  {
   "cell_type": "code",
   "execution_count": 126,
   "id": "2882a44e",
   "metadata": {},
   "outputs": [
    {
     "name": "stdout",
     "output_type": "stream",
     "text": [
      "326\n"
     ]
    }
   ],
   "source": [
    "print(randint(111,999))"
   ]
  },
  {
   "cell_type": "code",
   "execution_count": 129,
   "id": "e2e2032d",
   "metadata": {},
   "outputs": [
    {
     "name": "stdout",
     "output_type": "stream",
     "text": [
      "0.8480495508152092\n"
     ]
    }
   ],
   "source": [
    "print(random())"
   ]
  },
  {
   "cell_type": "code",
   "execution_count": 133,
   "id": "db2bd2a8",
   "metadata": {},
   "outputs": [
    {
     "data": {
      "text/plain": [
       "80"
      ]
     },
     "execution_count": 133,
     "metadata": {},
     "output_type": "execute_result"
    }
   ],
   "source": [
    "import random\n",
    "random.randrange(0,100)"
   ]
  },
  {
   "cell_type": "code",
   "execution_count": 140,
   "id": "de7e3810",
   "metadata": {},
   "outputs": [
    {
     "name": "stdout",
     "output_type": "stream",
     "text": [
      "                                  2022\n",
      "\n",
      "      January                   February                   March\n",
      "Mo Tu We Th Fr Sa Su      Mo Tu We Th Fr Sa Su      Mo Tu We Th Fr Sa Su\n",
      "                1  2          1  2  3  4  5  6          1  2  3  4  5  6\n",
      " 3  4  5  6  7  8  9       7  8  9 10 11 12 13       7  8  9 10 11 12 13\n",
      "10 11 12 13 14 15 16      14 15 16 17 18 19 20      14 15 16 17 18 19 20\n",
      "17 18 19 20 21 22 23      21 22 23 24 25 26 27      21 22 23 24 25 26 27\n",
      "24 25 26 27 28 29 30      28                        28 29 30 31\n",
      "31\n",
      "\n",
      "       April                      May                       June\n",
      "Mo Tu We Th Fr Sa Su      Mo Tu We Th Fr Sa Su      Mo Tu We Th Fr Sa Su\n",
      "             1  2  3                         1             1  2  3  4  5\n",
      " 4  5  6  7  8  9 10       2  3  4  5  6  7  8       6  7  8  9 10 11 12\n",
      "11 12 13 14 15 16 17       9 10 11 12 13 14 15      13 14 15 16 17 18 19\n",
      "18 19 20 21 22 23 24      16 17 18 19 20 21 22      20 21 22 23 24 25 26\n",
      "25 26 27 28 29 30         23 24 25 26 27 28 29      27 28 29 30\n",
      "                          30 31\n",
      "\n",
      "        July                     August                  September\n",
      "Mo Tu We Th Fr Sa Su      Mo Tu We Th Fr Sa Su      Mo Tu We Th Fr Sa Su\n",
      "             1  2  3       1  2  3  4  5  6  7                1  2  3  4\n",
      " 4  5  6  7  8  9 10       8  9 10 11 12 13 14       5  6  7  8  9 10 11\n",
      "11 12 13 14 15 16 17      15 16 17 18 19 20 21      12 13 14 15 16 17 18\n",
      "18 19 20 21 22 23 24      22 23 24 25 26 27 28      19 20 21 22 23 24 25\n",
      "25 26 27 28 29 30 31      29 30 31                  26 27 28 29 30\n",
      "\n",
      "      October                   November                  December\n",
      "Mo Tu We Th Fr Sa Su      Mo Tu We Th Fr Sa Su      Mo Tu We Th Fr Sa Su\n",
      "                1  2          1  2  3  4  5  6                1  2  3  4\n",
      " 3  4  5  6  7  8  9       7  8  9 10 11 12 13       5  6  7  8  9 10 11\n",
      "10 11 12 13 14 15 16      14 15 16 17 18 19 20      12 13 14 15 16 17 18\n",
      "17 18 19 20 21 22 23      21 22 23 24 25 26 27      19 20 21 22 23 24 25\n",
      "24 25 26 27 28 29 30      28 29 30                  26 27 28 29 30 31\n",
      "31\n",
      "\n"
     ]
    }
   ],
   "source": [
    "import calendar\n",
    "print(calendar.calendar(2022))"
   ]
  },
  {
   "cell_type": "code",
   "execution_count": 141,
   "id": "b0d19337",
   "metadata": {},
   "outputs": [
    {
     "name": "stdout",
     "output_type": "stream",
     "text": [
      "True\n"
     ]
    }
   ],
   "source": [
    "print(calendar.isleap(2020))"
   ]
  },
  {
   "cell_type": "code",
   "execution_count": 142,
   "id": "2ab0be2e",
   "metadata": {},
   "outputs": [
    {
     "name": "stdout",
     "output_type": "stream",
     "text": [
      "   November 2020\n",
      "Mo Tu We Th Fr Sa Su\n",
      "                   1\n",
      " 2  3  4  5  6  7  8\n",
      " 9 10 11 12 13 14 15\n",
      "16 17 18 19 20 21 22\n",
      "23 24 25 26 27 28 29\n",
      "30\n",
      "\n"
     ]
    }
   ],
   "source": [
    "print(calendar.month(2020,11))"
   ]
  },
  {
   "cell_type": "code",
   "execution_count": 143,
   "id": "c12eb492",
   "metadata": {},
   "outputs": [],
   "source": [
    "import calc"
   ]
  },
  {
   "cell_type": "code",
   "execution_count": 144,
   "id": "17f6a826",
   "metadata": {},
   "outputs": [
    {
     "data": {
      "text/plain": [
       "['__builtins__',\n",
       " '__cached__',\n",
       " '__doc__',\n",
       " '__file__',\n",
       " '__loader__',\n",
       " '__name__',\n",
       " '__package__',\n",
       " '__spec__',\n",
       " 'add',\n",
       " 'div',\n",
       " 'mul',\n",
       " 'sub']"
      ]
     },
     "execution_count": 144,
     "metadata": {},
     "output_type": "execute_result"
    }
   ],
   "source": [
    "dir(calc)"
   ]
  },
  {
   "cell_type": "code",
   "execution_count": 145,
   "id": "f597b336",
   "metadata": {},
   "outputs": [
    {
     "data": {
      "text/plain": [
       "69"
      ]
     },
     "execution_count": 145,
     "metadata": {},
     "output_type": "execute_result"
    }
   ],
   "source": [
    "calc.add(20,49)"
   ]
  },
  {
   "cell_type": "code",
   "execution_count": 146,
   "id": "cf0e2737",
   "metadata": {},
   "outputs": [
    {
     "data": {
      "text/plain": [
       "11"
      ]
     },
     "execution_count": 146,
     "metadata": {},
     "output_type": "execute_result"
    }
   ],
   "source": [
    "calc.sub(23,12)"
   ]
  },
  {
   "cell_type": "code",
   "execution_count": 147,
   "id": "f7eb00eb",
   "metadata": {},
   "outputs": [
    {
     "data": {
      "text/plain": [
       "72"
      ]
     },
     "execution_count": 147,
     "metadata": {},
     "output_type": "execute_result"
    }
   ],
   "source": [
    "calc.mul(6,12)"
   ]
  },
  {
   "cell_type": "code",
   "execution_count": 148,
   "id": "ffe98f89",
   "metadata": {},
   "outputs": [
    {
     "data": {
      "text/plain": [
       "2.0"
      ]
     },
     "execution_count": 148,
     "metadata": {},
     "output_type": "execute_result"
    }
   ],
   "source": [
    "calc.div(24,12)"
   ]
  },
  {
   "cell_type": "code",
   "execution_count": 149,
   "id": "3e1f6844",
   "metadata": {},
   "outputs": [],
   "source": [
    "from calc import add"
   ]
  },
  {
   "cell_type": "code",
   "execution_count": 150,
   "id": "ee3371e2",
   "metadata": {},
   "outputs": [
    {
     "data": {
      "text/plain": [
       "59"
      ]
     },
     "execution_count": 150,
     "metadata": {},
     "output_type": "execute_result"
    }
   ],
   "source": [
    "add(29,30)"
   ]
  },
  {
   "cell_type": "code",
   "execution_count": 152,
   "id": "a769d6fc",
   "metadata": {},
   "outputs": [],
   "source": [
    "from calc import *"
   ]
  },
  {
   "cell_type": "code",
   "execution_count": 154,
   "id": "31647459",
   "metadata": {},
   "outputs": [
    {
     "data": {
      "text/plain": [
       "10"
      ]
     },
     "execution_count": 154,
     "metadata": {},
     "output_type": "execute_result"
    }
   ],
   "source": [
    "sub(20,10)"
   ]
  },
  {
   "cell_type": "code",
   "execution_count": 1,
   "id": "57b1afa9",
   "metadata": {},
   "outputs": [
    {
     "name": "stdout",
     "output_type": "stream",
     "text": [
      "Enter a number: 5\n",
      "is Odd 5\n"
     ]
    }
   ],
   "source": [
    "import even"
   ]
  },
  {
   "cell_type": "code",
   "execution_count": 3,
   "id": "6b3b2476",
   "metadata": {},
   "outputs": [
    {
     "name": "stdout",
     "output_type": "stream",
     "text": [
      "is Odd 9\n"
     ]
    }
   ],
   "source": [
    "even.even(9)"
   ]
  },
  {
   "cell_type": "markdown",
   "id": "96f6e265",
   "metadata": {},
   "source": [
    "# Regular Expressions\n",
    "- A regular expesson is a sequence of a characters that defines a search patterns\n",
    "- we have to builtin module in python work to with regular expression: represented 'RE'\n",
    "- we hav eto import that modules in to our python file by using re\n",
    "- syntax::re.regex function ('pattern'.'input')\n",
    "\n",
    "- 3 methods\n",
    "    - 1.findall()\n",
    "       - it returns alist containing  all matchs (or) this module is used to search for all occurence that match a given(find all the duplicates  for aspecifi pattern)\n",
    "    - 2.search()\n",
    "        - to test the specified pattern is present or not in the given string\n",
    "    - 3.match()\n",
    "        - the text the i/p string starts with specified pattern or not"
   ]
  },
  {
   "cell_type": "code",
   "execution_count": 5,
   "id": "a8baa1e6",
   "metadata": {},
   "outputs": [
    {
     "name": "stdout",
     "output_type": "stream",
     "text": [
      "['ai']\n"
     ]
    }
   ],
   "source": [
    "import re\n",
    "n=\"the rain in vasavi\"\n",
    "z=re.findall('ai',n)\n",
    "print(z)"
   ]
  },
  {
   "cell_type": "code",
   "execution_count": 7,
   "id": "8aee29f8",
   "metadata": {},
   "outputs": [
    {
     "name": "stdout",
     "output_type": "stream",
     "text": [
      "['in', 'in']\n"
     ]
    }
   ],
   "source": [
    "import re\n",
    "n=\"the rain in vasavi\"\n",
    "z=re.findall('in',n)\n",
    "print(z)"
   ]
  },
  {
   "cell_type": "code",
   "execution_count": 8,
   "id": "ed2efb01",
   "metadata": {},
   "outputs": [
    {
     "data": {
      "text/plain": [
       "<re.Match object; span=(0, 1), match='p'>"
      ]
     },
     "execution_count": 8,
     "metadata": {},
     "output_type": "execute_result"
    }
   ],
   "source": [
    "# search\n",
    "re.search('p','pythonworkshop')"
   ]
  },
  {
   "cell_type": "code",
   "execution_count": 9,
   "id": "5e8ad89f",
   "metadata": {},
   "outputs": [
    {
     "data": {
      "text/plain": [
       "['p', 'p']"
      ]
     },
     "execution_count": 9,
     "metadata": {},
     "output_type": "execute_result"
    }
   ],
   "source": [
    "# search\n",
    "re.findall('p','pythonworkshop')"
   ]
  },
  {
   "cell_type": "code",
   "execution_count": 10,
   "id": "9f3d1a30",
   "metadata": {},
   "outputs": [
    {
     "data": {
      "text/plain": [
       "<re.Match object; span=(7, 8), match='p'>"
      ]
     },
     "execution_count": 10,
     "metadata": {},
     "output_type": "execute_result"
    }
   ],
   "source": [
    "# search\n",
    "re.search('p','workshop')"
   ]
  },
  {
   "cell_type": "code",
   "execution_count": 11,
   "id": "a787a5e0",
   "metadata": {},
   "outputs": [
    {
     "data": {
      "text/plain": [
       "<re.Match object; span=(0, 1), match='p'>"
      ]
     },
     "execution_count": 11,
     "metadata": {},
     "output_type": "execute_result"
    }
   ],
   "source": [
    "re.match('p','python')"
   ]
  },
  {
   "cell_type": "code",
   "execution_count": 12,
   "id": "6d6a6774",
   "metadata": {},
   "outputs": [
    {
     "data": {
      "text/plain": [
       "<re.Match object; span=(0, 6), match='python'>"
      ]
     },
     "execution_count": 12,
     "metadata": {},
     "output_type": "execute_result"
    }
   ],
   "source": [
    "re.match('python','python')"
   ]
  },
  {
   "cell_type": "code",
   "execution_count": null,
   "id": "5fc6c63a",
   "metadata": {},
   "outputs": [],
   "source": []
  }
 ],
 "metadata": {
  "kernelspec": {
   "display_name": "Python 3 (ipykernel)",
   "language": "python",
   "name": "python3"
  },
  "language_info": {
   "codemirror_mode": {
    "name": "ipython",
    "version": 3
   },
   "file_extension": ".py",
   "mimetype": "text/x-python",
   "name": "python",
   "nbconvert_exporter": "python",
   "pygments_lexer": "ipython3",
   "version": "3.9.7"
  }
 },
 "nbformat": 4,
 "nbformat_minor": 5
}
