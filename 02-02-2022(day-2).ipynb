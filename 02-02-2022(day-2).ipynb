{
 "cells": [
  {
   "cell_type": "markdown",
   "id": "668fecf0",
   "metadata": {},
   "source": [
    "### input and output methods\n",
    "- reading the data are information from the user----***input()***\n",
    "    - static input\n",
    "    -dynamic input\n",
    "- displaying the information or data to the user----***print()***"
   ]
  },
  {
   "cell_type": "code",
   "execution_count": 1,
   "id": "37c8c853",
   "metadata": {},
   "outputs": [
    {
     "name": "stdout",
     "output_type": "stream",
     "text": [
      "20\n",
      "30\n"
     ]
    }
   ],
   "source": [
    "a=20\n",
    "b=30\n",
    "print(a)\n",
    "print(b)"
   ]
  },
  {
   "cell_type": "code",
   "execution_count": 2,
   "id": "9aa67336",
   "metadata": {},
   "outputs": [
    {
     "name": "stdout",
     "output_type": "stream",
     "text": [
      "rajesh\n"
     ]
    },
    {
     "data": {
      "text/plain": [
       "'rajesh'"
      ]
     },
     "execution_count": 2,
     "metadata": {},
     "output_type": "execute_result"
    }
   ],
   "source": [
    "a=input()\n",
    "a"
   ]
  },
  {
   "cell_type": "code",
   "execution_count": 3,
   "id": "2ee43c1b",
   "metadata": {},
   "outputs": [
    {
     "name": "stdout",
     "output_type": "stream",
     "text": [
      "345\n"
     ]
    },
    {
     "data": {
      "text/plain": [
       "'345'"
      ]
     },
     "execution_count": 3,
     "metadata": {},
     "output_type": "execute_result"
    }
   ],
   "source": [
    "a=input()\n",
    "a"
   ]
  },
  {
   "cell_type": "code",
   "execution_count": 4,
   "id": "db7074d7",
   "metadata": {},
   "outputs": [
    {
     "name": "stdout",
     "output_type": "stream",
     "text": [
      "enter user value234\n"
     ]
    },
    {
     "data": {
      "text/plain": [
       "'234'"
      ]
     },
     "execution_count": 4,
     "metadata": {},
     "output_type": "execute_result"
    }
   ],
   "source": [
    "a=input(\"enter user value\")\n",
    "a"
   ]
  },
  {
   "cell_type": "code",
   "execution_count": 5,
   "id": "6ae98c6c",
   "metadata": {},
   "outputs": [
    {
     "name": "stdout",
     "output_type": "stream",
     "text": [
      "enter user value256.0\n"
     ]
    },
    {
     "data": {
      "text/plain": [
       "256.0"
      ]
     },
     "execution_count": 5,
     "metadata": {},
     "output_type": "execute_result"
    }
   ],
   "source": [
    "a=float(input(\"enter user value\"))\n",
    "a"
   ]
  },
  {
   "cell_type": "code",
   "execution_count": 6,
   "id": "089ca6f0",
   "metadata": {},
   "outputs": [
    {
     "name": "stdout",
     "output_type": "stream",
     "text": [
      "enter value256\n",
      "256\n"
     ]
    }
   ],
   "source": [
    "a=input(\"enter value\")\n",
    "print(a)"
   ]
  },
  {
   "cell_type": "code",
   "execution_count": 9,
   "id": "483ccc56",
   "metadata": {},
   "outputs": [
    {
     "name": "stdout",
     "output_type": "stream",
     "text": [
      "20,30,50%"
     ]
    }
   ],
   "source": [
    "a=20\n",
    "b=30\n",
    "c=50\n",
    "print(a,b,c,sep=\",\",end=\"%\")\n",
    "     "
   ]
  },
  {
   "cell_type": "code",
   "execution_count": 8,
   "id": "68c0eaa2",
   "metadata": {},
   "outputs": [
    {
     "name": "stdout",
     "output_type": "stream",
     "text": [
      "Help on built-in function print in module builtins:\n",
      "\n",
      "print(...)\n",
      "    print(value, ..., sep=' ', end='\\n', file=sys.stdout, flush=False)\n",
      "    \n",
      "    Prints the values to a stream, or to sys.stdout by default.\n",
      "    Optional keyword arguments:\n",
      "    file:  a file-like object (stream); defaults to the current sys.stdout.\n",
      "    sep:   string inserted between values, default a space.\n",
      "    end:   string appended after the last value, default a newline.\n",
      "    flush: whether to forcibly flush the stream.\n",
      "\n"
     ]
    }
   ],
   "source": [
    "help(print)"
   ]
  },
  {
   "cell_type": "code",
   "execution_count": 11,
   "id": "7052327e",
   "metadata": {},
   "outputs": [
    {
     "name": "stdout",
     "output_type": "stream",
     "text": [
      "20,30,50\n",
      "50\n"
     ]
    }
   ],
   "source": [
    "a=20\n",
    "b=30\n",
    "c=50\n",
    "print(a,b,c,sep=\",\",end=\"\\n\")\n",
    "print(c)     "
   ]
  },
  {
   "cell_type": "code",
   "execution_count": 15,
   "id": "5b59172b",
   "metadata": {},
   "outputs": [
    {
     "name": "stdout",
     "output_type": "stream",
     "text": [
      "enter a value5\n",
      "enter b value6\n",
      "enter c value7\n",
      "5$6$7% \n",
      " 5 6 7\n"
     ]
    }
   ],
   "source": [
    "# generate the three values from the user that values separated with $ and end with %\n",
    "a=input(\"enter a value\")\n",
    "b=input(\"enter b value\")\n",
    "c=input(\"enter c value\")\n",
    "print(a,b,c,sep=\"$\",end=\"% \\n \")\n",
    "print(a,b,c)"
   ]
  },
  {
   "cell_type": "markdown",
   "id": "6adb13fe",
   "metadata": {},
   "source": [
    "### operaters\n",
    "- arithametic operaters(+,-,*,**,/,//,%)\n",
    "    - output for the normal division is quotient\n",
    "    - output for the int division or floor division is integer part of the quotient\n",
    "    - output for the modulo division is reminder\n",
    "-assignment operaters(=)\n",
    "-comparision operaters(<,>,<=,>=,==)\n",
    "-logical operaters(and,or,not)\n",
    "-bitwise opertater(&,|,^)\n",
    "-identity operaters(is (==),isnot(!=)\n",
    "-memebership operaters(in,notin)\n"
   ]
  },
  {
   "cell_type": "markdown",
   "id": "b7fdcb2c",
   "metadata": {},
   "source": [
    "### arithmatic operaters\n"
   ]
  },
  {
   "cell_type": "code",
   "execution_count": 17,
   "id": "13b445d0",
   "metadata": {},
   "outputs": [
    {
     "name": "stdout",
     "output_type": "stream",
     "text": [
      "addition 5\n",
      "subtraction -1\n",
      "multiplication 6\n",
      "power 8\n",
      "division 0.6666666666666666\n",
      "int division or floor division 0\n",
      "modulo division 2\n"
     ]
    }
   ],
   "source": [
    "a=2\n",
    "b=3\n",
    "print(\"addition\",a+b)\n",
    "print(\"subtraction\",a-b)\n",
    "print(\"multiplication\",a*b)\n",
    "print(\"power\",a**b)\n",
    "print(\"division\",a/b)\n",
    "print(\"int division or floor division\",a//b)\n",
    "print(\"modulo division\",a%b)"
   ]
  },
  {
   "cell_type": "markdown",
   "id": "5a9ccfc2",
   "metadata": {},
   "source": [
    "### Assignment operaters\n",
    "- it represented with =\n",
    "- leftside value of the operater(=) is called as variable\n",
    "- rightside value of the variable (=) is called a value"
   ]
  },
  {
   "cell_type": "code",
   "execution_count": 18,
   "id": "4dffbbf9",
   "metadata": {},
   "outputs": [
    {
     "name": "stdout",
     "output_type": "stream",
     "text": [
      "20\n",
      "59\n"
     ]
    }
   ],
   "source": [
    "a=20\n",
    "b=59\n",
    "print(a)\n",
    "print(b)\n"
   ]
  },
  {
   "cell_type": "markdown",
   "id": "97e6ddba",
   "metadata": {},
   "source": [
    "### Comparation operaters"
   ]
  },
  {
   "cell_type": "code",
   "execution_count": 19,
   "id": "b470d3af",
   "metadata": {},
   "outputs": [
    {
     "data": {
      "text/plain": [
       "False"
      ]
     },
     "execution_count": 19,
     "metadata": {},
     "output_type": "execute_result"
    }
   ],
   "source": [
    "2>6"
   ]
  },
  {
   "cell_type": "code",
   "execution_count": 20,
   "id": "bd9b5e3e",
   "metadata": {},
   "outputs": [
    {
     "data": {
      "text/plain": [
       "True"
      ]
     },
     "execution_count": 20,
     "metadata": {},
     "output_type": "execute_result"
    }
   ],
   "source": [
    "2<6"
   ]
  },
  {
   "cell_type": "code",
   "execution_count": 21,
   "id": "5ff7675d",
   "metadata": {},
   "outputs": [
    {
     "name": "stdout",
     "output_type": "stream",
     "text": [
      "rajesh\n"
     ]
    }
   ],
   "source": [
    "if 2>9 and 2<=6:\n",
    "    print(\"print true or fals\")\n",
    "else:\n",
    "    print(\"rajesh\")"
   ]
  },
  {
   "cell_type": "code",
   "execution_count": 22,
   "id": "3c814f16",
   "metadata": {},
   "outputs": [
    {
     "data": {
      "text/plain": [
       "False"
      ]
     },
     "execution_count": 22,
     "metadata": {},
     "output_type": "execute_result"
    }
   ],
   "source": [
    "2>=7"
   ]
  },
  {
   "cell_type": "code",
   "execution_count": 23,
   "id": "e1be89d7",
   "metadata": {},
   "outputs": [
    {
     "data": {
      "text/plain": [
       "True"
      ]
     },
     "execution_count": 23,
     "metadata": {},
     "output_type": "execute_result"
    }
   ],
   "source": [
    "3<=5"
   ]
  },
  {
   "cell_type": "markdown",
   "id": "9cc32023",
   "metadata": {},
   "source": [
    "### Logical operaters\n",
    "- and, or, not\n",
    "- if all the inputs are true the output is true(true)\n",
    "- if any of the input is true the output is true(or)\n",
    "- opposite operation for the given one."
   ]
  },
  {
   "cell_type": "code",
   "execution_count": 24,
   "id": "eaa6719b",
   "metadata": {},
   "outputs": [
    {
     "data": {
      "text/plain": [
       "False"
      ]
     },
     "execution_count": 24,
     "metadata": {},
     "output_type": "execute_result"
    }
   ],
   "source": [
    "2<5 and 3>6"
   ]
  },
  {
   "cell_type": "code",
   "execution_count": 25,
   "id": "a4bac0a1",
   "metadata": {},
   "outputs": [
    {
     "data": {
      "text/plain": [
       "False"
      ]
     },
     "execution_count": 25,
     "metadata": {},
     "output_type": "execute_result"
    }
   ],
   "source": [
    "2>5 and 3<6"
   ]
  },
  {
   "cell_type": "code",
   "execution_count": 27,
   "id": "3001b944",
   "metadata": {},
   "outputs": [
    {
     "data": {
      "text/plain": [
       "True"
      ]
     },
     "execution_count": 27,
     "metadata": {},
     "output_type": "execute_result"
    }
   ],
   "source": [
    "3<9 and 4>0"
   ]
  },
  {
   "cell_type": "code",
   "execution_count": 28,
   "id": "a556cc77",
   "metadata": {},
   "outputs": [
    {
     "data": {
      "text/plain": [
       "True"
      ]
     },
     "execution_count": 28,
     "metadata": {},
     "output_type": "execute_result"
    }
   ],
   "source": [
    "4<8 or 5>2"
   ]
  },
  {
   "cell_type": "code",
   "execution_count": 29,
   "id": "fcb9df27",
   "metadata": {},
   "outputs": [
    {
     "data": {
      "text/plain": [
       "False"
      ]
     },
     "execution_count": 29,
     "metadata": {},
     "output_type": "execute_result"
    }
   ],
   "source": [
    "5>9 and 8<3"
   ]
  },
  {
   "cell_type": "code",
   "execution_count": 30,
   "id": "20d345c0",
   "metadata": {},
   "outputs": [
    {
     "data": {
      "text/plain": [
       "False"
      ]
     },
     "execution_count": 30,
     "metadata": {},
     "output_type": "execute_result"
    }
   ],
   "source": [
    "a=100\n",
    "not a"
   ]
  },
  {
   "cell_type": "markdown",
   "id": "8b0f0f52",
   "metadata": {},
   "source": [
    "### Bitwise operaters\n",
    "- "
   ]
  },
  {
   "cell_type": "code",
   "execution_count": 31,
   "id": "ab6389c7",
   "metadata": {},
   "outputs": [
    {
     "data": {
      "text/plain": [
       "2"
      ]
     },
     "execution_count": 31,
     "metadata": {},
     "output_type": "execute_result"
    }
   ],
   "source": [
    "2 & 3\n",
    "# 2- 0 0 1 0\n",
    "# 3- 0 0 1 1\n",
    "-------------\n",
    "# - 0 0 1 0"
   ]
  },
  {
   "cell_type": "code",
   "execution_count": 32,
   "id": "9c66475a",
   "metadata": {},
   "outputs": [
    {
     "data": {
      "text/plain": [
       "7"
      ]
     },
     "execution_count": 32,
     "metadata": {},
     "output_type": "execute_result"
    }
   ],
   "source": [
    "3|4\n"
   ]
  },
  {
   "cell_type": "code",
   "execution_count": 33,
   "id": "a3077a74",
   "metadata": {},
   "outputs": [
    {
     "data": {
      "text/plain": [
       "0"
      ]
     },
     "execution_count": 33,
     "metadata": {},
     "output_type": "execute_result"
    }
   ],
   "source": [
    "2>>3"
   ]
  },
  {
   "cell_type": "code",
   "execution_count": 34,
   "id": "e708c7e2",
   "metadata": {},
   "outputs": [
    {
     "data": {
      "text/plain": [
       "16"
      ]
     },
     "execution_count": 34,
     "metadata": {},
     "output_type": "execute_result"
    }
   ],
   "source": [
    "2<<3"
   ]
  },
  {
   "cell_type": "markdown",
   "id": "dcca7666",
   "metadata": {},
   "source": [
    "### Identity operater\n"
   ]
  },
  {
   "cell_type": "code",
   "execution_count": 35,
   "id": "d3bff12c",
   "metadata": {},
   "outputs": [
    {
     "name": "stderr",
     "output_type": "stream",
     "text": [
      "<>:1: SyntaxWarning: \"is\" with a literal. Did you mean \"==\"?\n",
      "<>:1: SyntaxWarning: \"is not\" with a literal. Did you mean \"!=\"?\n",
      "<>:1: SyntaxWarning: \"is\" with a literal. Did you mean \"==\"?\n",
      "<>:1: SyntaxWarning: \"is not\" with a literal. Did you mean \"!=\"?\n",
      "C:\\Users\\Lab\\AppData\\Local\\Temp/ipykernel_4860/1988167162.py:1: SyntaxWarning: \"is\" with a literal. Did you mean \"==\"?\n",
      "  a is 100 and a is not 100\n",
      "C:\\Users\\Lab\\AppData\\Local\\Temp/ipykernel_4860/1988167162.py:1: SyntaxWarning: \"is not\" with a literal. Did you mean \"!=\"?\n",
      "  a is 100 and a is not 100\n"
     ]
    },
    {
     "data": {
      "text/plain": [
       "False"
      ]
     },
     "execution_count": 35,
     "metadata": {},
     "output_type": "execute_result"
    }
   ],
   "source": [
    "a is 100 and a is not 100"
   ]
  },
  {
   "cell_type": "code",
   "execution_count": 36,
   "id": "6c3c70e7",
   "metadata": {},
   "outputs": [
    {
     "data": {
      "text/plain": [
       "False"
      ]
     },
     "execution_count": 36,
     "metadata": {},
     "output_type": "execute_result"
    }
   ],
   "source": [
    "a==100 and a!=100"
   ]
  },
  {
   "cell_type": "markdown",
   "id": "8663eeb6",
   "metadata": {},
   "source": [
    "### Membership operater"
   ]
  },
  {
   "cell_type": "code",
   "execution_count": 37,
   "id": "d526ca8e",
   "metadata": {},
   "outputs": [
    {
     "data": {
      "text/plain": [
       "True"
      ]
     },
     "execution_count": 37,
     "metadata": {},
     "output_type": "execute_result"
    }
   ],
   "source": [
    "s=[1,2,4,6,8,9]\n",
    "4 in s"
   ]
  },
  {
   "cell_type": "code",
   "execution_count": 40,
   "id": "71613737",
   "metadata": {},
   "outputs": [
    {
     "data": {
      "text/plain": [
       "True"
      ]
     },
     "execution_count": 40,
     "metadata": {},
     "output_type": "execute_result"
    }
   ],
   "source": [
    "10  not in s"
   ]
  },
  {
   "cell_type": "code",
   "execution_count": 41,
   "id": "f724ea71",
   "metadata": {},
   "outputs": [
    {
     "data": {
      "text/plain": [
       "False"
      ]
     },
     "execution_count": 41,
     "metadata": {},
     "output_type": "execute_result"
    }
   ],
   "source": [
    "2 not in s"
   ]
  },
  {
   "cell_type": "code",
   "execution_count": 42,
   "id": "b411d5c5",
   "metadata": {},
   "outputs": [
    {
     "data": {
      "text/plain": [
       "21"
      ]
     },
     "execution_count": 42,
     "metadata": {},
     "output_type": "execute_result"
    }
   ],
   "source": [
    "a=20\n",
    "a+=1\n",
    "a"
   ]
  },
  {
   "cell_type": "code",
   "execution_count": 43,
   "id": "2e604e59",
   "metadata": {},
   "outputs": [],
   "source": [
    "a=45\n",
    "# a+=1---------->a=a+1"
   ]
  },
  {
   "cell_type": "code",
   "execution_count": 45,
   "id": "51a688fa",
   "metadata": {},
   "outputs": [
    {
     "data": {
      "text/plain": [
       "45.0"
      ]
     },
     "execution_count": 45,
     "metadata": {},
     "output_type": "execute_result"
    }
   ],
   "source": [
    "a=45\n",
    "a/=1\n",
    "a"
   ]
  },
  {
   "cell_type": "markdown",
   "id": "8ee129bf",
   "metadata": {},
   "source": [
    "### Flow controls\n",
    "- conditional statements(if,else,elif,nestefif)\n",
    "- loops(for,while)\n",
    "- break,return"
   ]
  },
  {
   "cell_type": "code",
   "execution_count": null,
   "id": "ef39cc29",
   "metadata": {},
   "outputs": [],
   "source": [
    "# c-language\n",
    "if(condition){\n",
    "    print(a)\n",
    "}    \n"
   ]
  },
  {
   "cell_type": "markdown",
   "id": "480749e8",
   "metadata": {},
   "source": [
    "### Conditional statements"
   ]
  },
  {
   "cell_type": "code",
   "execution_count": null,
   "id": "4e2f51f7",
   "metadata": {},
   "outputs": [],
   "source": [
    "# simple if\n",
    "if (condition):\n",
    "    statement1\n",
    "    statement2\n",
    "    statement3\n",
    "    ----------\n",
    "    statementn\n",
    "\n",
    "    \n",
    "    "
   ]
  },
  {
   "cell_type": "code",
   "execution_count": null,
   "id": "716d934a",
   "metadata": {},
   "outputs": [],
   "source": [
    "# if else\n",
    "if(condition):\n",
    "    True statement block\n",
    "    statement1\n",
    "    statement2\n",
    "    statement3\n",
    "    statementn\n",
    "    ----------\n",
    "else:\n",
    "    False block statement\n",
    "    statement2\n",
    "    ----------\n",
    "    statementn\n",
    "\n",
    "            "
   ]
  },
  {
   "cell_type": "code",
   "execution_count": 46,
   "id": "931bb360",
   "metadata": {},
   "outputs": [
    {
     "name": "stdout",
     "output_type": "stream",
     "text": [
      "given number is positive\n"
     ]
    }
   ],
   "source": [
    "if(0<7):\n",
    "    print(\"given number is positive\")"
   ]
  },
  {
   "cell_type": "code",
   "execution_count": 49,
   "id": "6c7d1de1",
   "metadata": {},
   "outputs": [
    {
     "name": "stdout",
     "output_type": "stream",
     "text": [
      "True\n"
     ]
    }
   ],
   "source": [
    "if 2<3:\n",
    "    print(\"True\")\n",
    "else:\n",
    "    print(\"False\")"
   ]
  },
  {
   "cell_type": "code",
   "execution_count": 51,
   "id": "84ceaf65",
   "metadata": {},
   "outputs": [
    {
     "name": "stdout",
     "output_type": "stream",
     "text": [
      "enter the number23\n",
      "odd number\n"
     ]
    }
   ],
   "source": [
    "# given number is even or odd\n",
    "n=int(input(\"enter the number\"))\n",
    "if(n%2==0):\n",
    "    print(\"even number\")\n",
    "else:\n",
    "    print(\"odd number\")\n"
   ]
  },
  {
   "cell_type": "code",
   "execution_count": 54,
   "id": "09fde212",
   "metadata": {},
   "outputs": [
    {
     "name": "stdout",
     "output_type": "stream",
     "text": [
      "enter a value-2\n",
      "negative\n"
     ]
    }
   ],
   "source": [
    "# given number is zero or positive or negativ\n",
    "n=int(input(\"enter a value\"))\n",
    "if(n==0):\n",
    "    print(\"given number is zero\")\n",
    "elif(n>0):\n",
    "    print(\"positive\")\n",
    "else:\n",
    "    print(\"negative\")\n",
    "\n",
    "\n",
    "    \n",
    "    \n",
    "\n",
    "    "
   ]
  },
  {
   "cell_type": "code",
   "execution_count": 57,
   "id": "de86d653",
   "metadata": {},
   "outputs": [
    {
     "name": "stdout",
     "output_type": "stream",
     "text": [
      "enter n value16\n",
      "valid number\n"
     ]
    }
   ],
   "source": [
    "# number is divisible by 2 but not divisible by 10\n",
    "n=int(input(\"enter n value\"))\n",
    "if(n%2==0 and n%10!=0):\n",
    "    print(\"valid number\")\n",
    "else:\n",
    "    print(\"invalid number\")\n",
    "    "
   ]
  },
  {
   "cell_type": "markdown",
   "id": "4b28f0c4",
   "metadata": {},
   "source": [
    "### Range\n",
    "- syntax for the range is range(start,endvalue,stepvalue)\n",
    "- starting value is inclusive and end value is exclusive\n"
   ]
  },
  {
   "cell_type": "code",
   "execution_count": null,
   "id": "45190937",
   "metadata": {},
   "outputs": [],
   "source": [
    "range(start,end,step)"
   ]
  },
  {
   "cell_type": "code",
   "execution_count": null,
   "id": "3f881ef5",
   "metadata": {},
   "outputs": [],
   "source": [
    "range(10,20,1)\n",
    "# 10,11,12,13,14,15,16,17,18,19\n",
    "range(20,30,2)\n",
    "# 20,22,24,26,28\n",
    "range(20,41,5)\n",
    "# 20 25,30,35,40\n",
    "range(50)\n",
    "# consider end value and start value\n",
    "# reverse print\n",
    "range(10,1,-1)"
   ]
  },
  {
   "cell_type": "code",
   "execution_count": 58,
   "id": "a9fe0573",
   "metadata": {},
   "outputs": [
    {
     "data": {
      "text/plain": [
       "[10, 11, 12, 13, 14, 15, 16, 17, 18, 19]"
      ]
     },
     "execution_count": 58,
     "metadata": {},
     "output_type": "execute_result"
    }
   ],
   "source": [
    "list(range(10,20,1))"
   ]
  },
  {
   "cell_type": "code",
   "execution_count": 59,
   "id": "10b12b2c",
   "metadata": {},
   "outputs": [
    {
     "data": {
      "text/plain": [
       "[20, 22, 24, 26, 28]"
      ]
     },
     "execution_count": 59,
     "metadata": {},
     "output_type": "execute_result"
    }
   ],
   "source": [
    "list(range(20,30,2))"
   ]
  },
  {
   "cell_type": "code",
   "execution_count": 60,
   "id": "b7f17166",
   "metadata": {},
   "outputs": [
    {
     "data": {
      "text/plain": [
       "[20, 24, 28, 32, 36, 40]"
      ]
     },
     "execution_count": 60,
     "metadata": {},
     "output_type": "execute_result"
    }
   ],
   "source": [
    "list(range(20,41,4))"
   ]
  },
  {
   "cell_type": "code",
   "execution_count": 61,
   "id": "cc1f3a2a",
   "metadata": {},
   "outputs": [
    {
     "data": {
      "text/plain": [
       "[0, 1, 2, 3, 4, 5, 6, 7, 8, 9]"
      ]
     },
     "execution_count": 61,
     "metadata": {},
     "output_type": "execute_result"
    }
   ],
   "source": [
    "list(range(10))"
   ]
  },
  {
   "cell_type": "code",
   "execution_count": 62,
   "id": "7b1603cb",
   "metadata": {},
   "outputs": [
    {
     "data": {
      "text/plain": [
       "[10, 9, 8, 7, 6, 5, 4, 3, 2]"
      ]
     },
     "execution_count": 62,
     "metadata": {},
     "output_type": "execute_result"
    }
   ],
   "source": [
    "list(range(10,1,-1))"
   ]
  },
  {
   "cell_type": "markdown",
   "id": "a5d46da7",
   "metadata": {},
   "source": [
    "### loops\n",
    "- for,while\n",
    "- for loop:::A for loop in python is a control flow statement that is used to repeatedly execute a group of statements as long as the condition is satisfied. such a btype of statements is also known as a iterative statement threfore, a for loop is an iterative statement"
   ]
  },
  {
   "cell_type": "code",
   "execution_count": null,
   "id": "d1ef22b0",
   "metadata": {},
   "outputs": [],
   "source": [
    "syntax:::\n",
    "            for iter in iterable: # range predefined function in the position of iterable\n",
    "                statement1\n",
    "                statement2\n",
    "                statementn"
   ]
  },
  {
   "cell_type": "code",
   "execution_count": 2,
   "id": "cb7f7670",
   "metadata": {
    "scrolled": true
   },
   "outputs": [
    {
     "name": "stdout",
     "output_type": "stream",
     "text": [
      "0\n",
      "1\n",
      "2\n",
      "3\n",
      "4\n"
     ]
    }
   ],
   "source": [
    "for i in  range(5):\n",
    "    print(i)"
   ]
  },
  {
   "cell_type": "code",
   "execution_count": 3,
   "id": "b3c18cbc",
   "metadata": {},
   "outputs": [
    {
     "name": "stdout",
     "output_type": "stream",
     "text": [
      "0,1,2,3,4,"
     ]
    }
   ],
   "source": [
    "for i in  range(5):\n",
    "    print(i,end=\",\")"
   ]
  },
  {
   "cell_type": "code",
   "execution_count": 4,
   "id": "a1d779ed",
   "metadata": {},
   "outputs": [
    {
     "name": "stdout",
     "output_type": "stream",
     "text": [
      "0 2 4 6 8 10 "
     ]
    }
   ],
   "source": [
    "for i in range(0,11,2):\n",
    "    print(i,end=\" \")"
   ]
  },
  {
   "cell_type": "code",
   "execution_count": 7,
   "id": "70ff0451",
   "metadata": {},
   "outputs": [
    {
     "name": "stdout",
     "output_type": "stream",
     "text": [
      "0 2 4 6 8 10 12 14 16 18 20 22 24 26 28 30 32 34 36 38 40 42 44 46 48 50 52 54 56 58 60 62 64 66 68 70 72 74 76 78 80 82 84 86 88 90 92 94 96 98 100 \n",
      " even number count 51\n"
     ]
    }
   ],
   "source": [
    "# print the even numbers in the range 0 to 100\n",
    "# and print even number count\n",
    "c=0\n",
    "for i in range(0,101,2):\n",
    "    c=c+1\n",
    "    print(i,end=\" \")\n",
    "print(\"\\n even number count\",c)    "
   ]
  },
  {
   "cell_type": "code",
   "execution_count": 8,
   "id": "18b77985",
   "metadata": {},
   "outputs": [
    {
     "name": "stdout",
     "output_type": "stream",
     "text": [
      "0 2 4 6 8 10 12 14 16 18 20 22 24 26 28 30 32 34 36 38 40 42 44 46 48 50 52 54 56 58 60 62 64 66 68 70 72 74 76 78 80 82 84 86 88 90 92 94 96 98 100 \n",
      " even number count: 51\n"
     ]
    }
   ],
   "source": [
    "c=0\n",
    "for i in range(0,101):\n",
    "    if i%2==0:\n",
    "        c=c+1\n",
    "        print(i,end=\" \")\n",
    "print(\"\\n even number count:\",c)        "
   ]
  },
  {
   "cell_type": "code",
   "execution_count": 9,
   "id": "e589c2a3",
   "metadata": {},
   "outputs": [
    {
     "name": "stdout",
     "output_type": "stream",
     "text": [
      "2000\n",
      "2020\n",
      "2000 2004 2008 2012 2016 2020 \n",
      "years count: 6\n"
     ]
    }
   ],
   "source": [
    "# print leap years from the range of 2000 to 2020,print yeras\n",
    "x=int(input())\n",
    "y=int(input())\n",
    "c=0\n",
    "for i in range(x,y+1):\n",
    "    if (i%400==0)and(i%100!=0)or(i%4==0):\n",
    "        c=c+1\n",
    "        print(i,end=\" \")\n",
    "print(\"\\nyears count:\",c)        "
   ]
  },
  {
   "cell_type": "code",
   "execution_count": 12,
   "id": "07afcfa2",
   "metadata": {},
   "outputs": [
    {
     "name": "stdout",
     "output_type": "stream",
     "text": [
      "2000\n",
      "2020\n",
      "2000 2004 2008 2012 2016 2020 \n",
      " year count: 6\n"
     ]
    }
   ],
   "source": [
    "# print leap years from the range of 2000 to 2020,print yeras\n",
    "x=int(input())\n",
    "y=int(input())\n",
    "c=0\n",
    "for i in range(x,y+1):\n",
    "    if i%4==0:\n",
    "        c=c+1\n",
    "        print(i,end=\" \")\n",
    "print(\"\\n year count:\",c)        "
   ]
  },
  {
   "cell_type": "code",
   "execution_count": 13,
   "id": "f4c1618f",
   "metadata": {},
   "outputs": [
    {
     "name": "stdout",
     "output_type": "stream",
     "text": [
      "5 * 1 = 5\n",
      "5 * 2 = 10\n",
      "5 * 3 = 15\n",
      "5 * 4 = 20\n",
      "5 * 5 = 25\n",
      "5 * 6 = 30\n",
      "5 * 7 = 35\n",
      "5 * 8 = 40\n",
      "5 * 9 = 45\n",
      "5 * 10 = 50\n"
     ]
    }
   ],
   "source": [
    "n=5\n",
    "for i in range(1,11):\n",
    "    print(n, \"*\",i,\"=\",n*i)\n",
    "         \n",
    "         "
   ]
  },
  {
   "cell_type": "code",
   "execution_count": 17,
   "id": "46a89ddc",
   "metadata": {},
   "outputs": [
    {
     "name": "stdout",
     "output_type": "stream",
     "text": [
      "10\n",
      "1 2 5 10 "
     ]
    }
   ],
   "source": [
    "# factors of 5\n",
    "n=int(input())\n",
    "for i in range (1,n+1):\n",
    "    if(n%i)==0:\n",
    "        print(i,end=\" \")"
   ]
  },
  {
   "cell_type": "code",
   "execution_count": 19,
   "id": "ea393c52",
   "metadata": {},
   "outputs": [
    {
     "name": "stdout",
     "output_type": "stream",
     "text": [
      "Rajesh\n",
      "605\n"
     ]
    }
   ],
   "source": [
    "# I/p=aba\n",
    "# 97+98+97=292\n",
    "# o/p 292\n",
    "a=input()\n",
    "s=0\n",
    "for i in a:\n",
    "    s=s+ord(i)\n",
    "print(s)    "
   ]
  },
  {
   "cell_type": "code",
   "execution_count": 20,
   "id": "e397b292",
   "metadata": {},
   "outputs": [
    {
     "name": "stdout",
     "output_type": "stream",
     "text": [
      "5\n",
      "prime number\n"
     ]
    }
   ],
   "source": [
    "# check the given number is prime or not\n",
    "n=int(input())\n",
    "c=0\n",
    "for i in range(1,n+1):\n",
    "    if(n%i==0):\n",
    "        c=c+1\n",
    "if(c==2):\n",
    "    print(\"prime number\")\n",
    "else:\n",
    "    print(\"not prime number\")\n",
    "        "
   ]
  },
  {
   "cell_type": "code",
   "execution_count": 22,
   "id": "530c5ac4",
   "metadata": {},
   "outputs": [
    {
     "name": "stdout",
     "output_type": "stream",
     "text": [
      "1\n",
      "10\n",
      "even numbers\n",
      "2 4 6 8 10 \n",
      " odd numbers are: 1 3 5 7 9 "
     ]
    }
   ],
   "source": [
    "# 0-10\n",
    "# even numbers:\n",
    "# odd number:\n",
    "n=int(input())\n",
    "m=int(input())\n",
    "print(\"even numbers\")\n",
    "for i in range(n,m+1):\n",
    "    if(i%2==0):\n",
    "        print(i,end=\" \")\n",
    "print(\"\\n odd numbers are:\",end=\" \")\n",
    "for i in range(n,m+1):\n",
    "    if i%2!=0:\n",
    "        print(i,end=\" \")\n",
    "        \n",
    "        \n",
    "        \n",
    "        \n",
    "        \n",
    "    "
   ]
  },
  {
   "cell_type": "code",
   "execution_count": null,
   "id": "5cc2bf07",
   "metadata": {},
   "outputs": [],
   "source": []
  }
 ],
 "metadata": {
  "kernelspec": {
   "display_name": "Python 3 (ipykernel)",
   "language": "python",
   "name": "python3"
  },
  "language_info": {
   "codemirror_mode": {
    "name": "ipython",
    "version": 3
   },
   "file_extension": ".py",
   "mimetype": "text/x-python",
   "name": "python",
   "nbconvert_exporter": "python",
   "pygments_lexer": "ipython3",
   "version": "3.9.7"
  }
 },
 "nbformat": 4,
 "nbformat_minor": 5
}
