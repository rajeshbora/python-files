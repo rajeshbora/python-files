{
 "cells": [
  {
   "cell_type": "markdown",
   "id": "649b2211",
   "metadata": {},
   "source": [
    "# hello\n",
    "## welcome\n",
    "### to\n",
    "#### vasavi\n",
    "##### cpllage\n",
    "###### welcome"
   ]
  },
  {
   "cell_type": "markdown",
   "id": "c48e0178",
   "metadata": {},
   "source": [
    "# italic\n",
    "*apssdc*"
   ]
  },
  {
   "cell_type": "markdown",
   "id": "496f4d00",
   "metadata": {},
   "source": [
    "***apssdc&vasavi***"
   ]
  },
  {
   "cell_type": "markdown",
   "id": "8a11e7c4",
   "metadata": {},
   "source": [
    "i am from vasavi collage first line  \n",
    "i am rajesh second line  \n",
    "i am learning python thirdline   \n"
   ]
  },
  {
   "cell_type": "markdown",
   "id": "6d931add",
   "metadata": {},
   "source": [
    "rfio0urpoi[erkrprir-pei0wq[0ei  [0riu[0wi-w9upfiupp"
   ]
  },
  {
   "cell_type": "markdown",
   "id": "4080bb6a",
   "metadata": {},
   "source": [
    "## un orderlist\n",
    "+ one  \n",
    "- two  \n",
    "+ three  \n",
    "    + four  \n",
    "    - five  \n",
    "    * sixe  \n",
    "        + eight  \n",
    "        - ninne  \n",
    "        * ten  \n"
   ]
  },
  {
   "cell_type": "markdown",
   "id": "e30c8d0a",
   "metadata": {},
   "source": [
    "## order list& sublist\n",
    "1. one  \n",
    "2. two  \n",
    "3. three  \n",
    "    4. four  \n",
    "    5. five  \n",
    "    6. six  \n",
    "        7. seven  \n",
    "        8. eight  \n",
    "        9. ninne  \n",
    "  \n",
    "\n",
    "\n"
   ]
  },
  {
   "cell_type": "markdown",
   "id": "ed423f54",
   "metadata": {},
   "source": [
    "### comments \n",
    "- user readable information  \n",
    "- it is mention im #  \n",
    "- for multiple line comment mention in the information \"\"\"  \"\"\"  \n"
   ]
  },
  {
   "cell_type": "markdown",
   "id": "ca5d4aef",
   "metadata": {},
   "source": [
    "## variable:\n",
    "- which is used to storing data \n",
    "- variable starts with charecters, underscores \n",
    "- variable could not start with numbers,special symbols keywords"
   ]
  },
  {
   "cell_type": "code",
   "execution_count": 5,
   "id": "c6a03255",
   "metadata": {},
   "outputs": [
    {
     "data": {
      "text/plain": [
       "'100'"
      ]
     },
     "execution_count": 5,
     "metadata": {},
     "output_type": "execute_result"
    }
   ],
   "source": [
    "abc=\"100\"\n",
    "abc"
   ]
  },
  {
   "cell_type": "markdown",
   "id": "7420aa2e",
   "metadata": {},
   "source": [
    "### datatypes\n",
    "- int(all integer value)\n",
    "- float(integer with decimal point)\n",
    "- str(combination of charecters)\n",
    "- complex(number with real are imaginary part)\n",
    "- boolean(true,false)"
   ]
  },
  {
   "cell_type": "code",
   "execution_count": 8,
   "id": "a13368ad",
   "metadata": {},
   "outputs": [],
   "source": [
    "a=765\n",
    "b=54.67\n",
    "c=\"appssdc\"\n",
    "d='p'\n",
    "e=1+2j\n",
    "f='1+2j'\n",
    "g=True"
   ]
  },
  {
   "cell_type": "code",
   "execution_count": 10,
   "id": "4f63142f",
   "metadata": {},
   "outputs": [
    {
     "name": "stdout",
     "output_type": "stream",
     "text": [
      "<class 'int'>\n",
      "<class 'float'>\n",
      "<class 'str'>\n",
      "<class 'str'>\n",
      "<class 'complex'>\n",
      "<class 'str'>\n"
     ]
    }
   ],
   "source": [
    "print(type(a))\n",
    "print(type(b))\n",
    "print(type(c))\n",
    "print(type(d))\n",
    "print(type(e))\n",
    "print(type(f))\n"
   ]
  },
  {
   "cell_type": "markdown",
   "id": "46a5c253",
   "metadata": {},
   "source": [
    "### typecasting\n",
    "- which converts the data from one datatype to another datatype\n"
   ]
  },
  {
   "cell_type": "code",
   "execution_count": 12,
   "id": "a665f72d",
   "metadata": {},
   "outputs": [
    {
     "name": "stdout",
     "output_type": "stream",
     "text": [
      "<class 'int'>\n"
     ]
    }
   ],
   "source": [
    "_abc=458\n",
    "print(type(_abc))"
   ]
  },
  {
   "cell_type": "code",
   "execution_count": 13,
   "id": "481625d3",
   "metadata": {},
   "outputs": [
    {
     "name": "stdout",
     "output_type": "stream",
     "text": [
      "<class 'float'>\n"
     ]
    }
   ],
   "source": [
    "z=float(_abc)\n",
    "print(type(z))"
   ]
  },
  {
   "cell_type": "code",
   "execution_count": 14,
   "id": "e810c9bb",
   "metadata": {},
   "outputs": [
    {
     "name": "stdout",
     "output_type": "stream",
     "text": [
      "<class 'str'>\n",
      "458\n"
     ]
    }
   ],
   "source": [
    "z=str(_abc)\n",
    "print(type(z))\n",
    "print(z)"
   ]
  },
  {
   "cell_type": "code",
   "execution_count": 17,
   "id": "a3c9eb25",
   "metadata": {},
   "outputs": [
    {
     "name": "stdout",
     "output_type": "stream",
     "text": [
      "<class 'str'>\n"
     ]
    }
   ],
   "source": [
    "abc=\"vasavi college\"\n",
    "print(type(abc))"
   ]
  },
  {
   "cell_type": "code",
   "execution_count": 18,
   "id": "43779ddf",
   "metadata": {},
   "outputs": [
    {
     "ename": "ValueError",
     "evalue": "invalid literal for int() with base 10: 'vasavi college'",
     "output_type": "error",
     "traceback": [
      "\u001b[1;31m---------------------------------------------------------------------------\u001b[0m",
      "\u001b[1;31mValueError\u001b[0m                                Traceback (most recent call last)",
      "\u001b[1;32m~\\AppData\\Local\\Temp/ipykernel_3372/3789439297.py\u001b[0m in \u001b[0;36m<module>\u001b[1;34m\u001b[0m\n\u001b[1;32m----> 1\u001b[1;33m \u001b[0mz\u001b[0m\u001b[1;33m=\u001b[0m\u001b[0mint\u001b[0m\u001b[1;33m(\u001b[0m\u001b[0mabc\u001b[0m\u001b[1;33m)\u001b[0m\u001b[1;33m\u001b[0m\u001b[1;33m\u001b[0m\u001b[0m\n\u001b[0m\u001b[0;32m      2\u001b[0m \u001b[0mprint\u001b[0m\u001b[1;33m(\u001b[0m\u001b[0mtype\u001b[0m\u001b[1;33m(\u001b[0m\u001b[0mz\u001b[0m\u001b[1;33m)\u001b[0m\u001b[1;33m)\u001b[0m\u001b[1;33m\u001b[0m\u001b[1;33m\u001b[0m\u001b[0m\n\u001b[0;32m      3\u001b[0m \u001b[0mprint\u001b[0m\u001b[1;33m(\u001b[0m\u001b[0mz\u001b[0m\u001b[1;33m)\u001b[0m\u001b[1;33m\u001b[0m\u001b[1;33m\u001b[0m\u001b[0m\n",
      "\u001b[1;31mValueError\u001b[0m: invalid literal for int() with base 10: 'vasavi college'"
     ]
    }
   ],
   "source": [
    "z=int(abc)\n",
    "print(type(z))\n",
    "print(z)"
   ]
  },
  {
   "cell_type": "code",
   "execution_count": 19,
   "id": "8cade714",
   "metadata": {},
   "outputs": [
    {
     "name": "stdout",
     "output_type": "stream",
     "text": [
      "<class 'int'>\n",
      "12344567\n"
     ]
    }
   ],
   "source": [
    "abc=\"12344567\"\n",
    "z=int(abc)\n",
    "print(type(z))\n",
    "print(z)"
   ]
  },
  {
   "cell_type": "code",
   "execution_count": 20,
   "id": "6cd41050",
   "metadata": {},
   "outputs": [
    {
     "name": "stdout",
     "output_type": "stream",
     "text": [
      "<class 'float'>\n",
      "12344567.0\n"
     ]
    }
   ],
   "source": [
    "z=float(abc)\n",
    "print(type(z))\n",
    "print(z)"
   ]
  },
  {
   "cell_type": "code",
   "execution_count": 21,
   "id": "082d833c",
   "metadata": {},
   "outputs": [
    {
     "name": "stdout",
     "output_type": "stream",
     "text": [
      "<class 'complex'>\n",
      "(12344567+0j)\n"
     ]
    }
   ],
   "source": [
    "z=complex(abc)\n",
    "print(type(z))\n",
    "print(z)\n",
    "\n"
   ]
  },
  {
   "cell_type": "code",
   "execution_count": null,
   "id": "2d97ef30",
   "metadata": {},
   "outputs": [],
   "source": []
  }
 ],
 "metadata": {
  "kernelspec": {
   "display_name": "Python 3 (ipykernel)",
   "language": "python",
   "name": "python3"
  },
  "language_info": {
   "codemirror_mode": {
    "name": "ipython",
    "version": 3
   },
   "file_extension": ".py",
   "mimetype": "text/x-python",
   "name": "python",
   "nbconvert_exporter": "python",
   "pygments_lexer": "ipython3",
   "version": "3.9.7"
  }
 },
 "nbformat": 4,
 "nbformat_minor": 5
}
